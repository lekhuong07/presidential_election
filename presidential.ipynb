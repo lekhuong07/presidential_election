{
 "cells": [
  {
   "cell_type": "markdown",
   "metadata": {},
   "source": [
    "## Set up all the needed packages"
   ]
  },
  {
   "cell_type": "markdown",
   "metadata": {},
   "source": [
    "### Abstract\n",
    "\n",
    "This project is trying to predict the presidential election and base on the races variable, three different machine learning model has been trained to find the best one for prediction. After that, from the best I will apply 2019's population data to predict the outcome of the votes. "
   ]
  },
  {
   "cell_type": "markdown",
   "metadata": {},
   "source": [
    "### Setup  all needed pakages\n",
    "\n",
    "I will use some helper packages like pandas, plotly statistics and math. Moreover, I will focus on sklearn packages for doing machine learning models like Linear Regression, KNN Regression, GradientBoosting Regression, to predict the outcome"
   ]
  },
  {
   "cell_type": "markdown",
   "metadata": {},
   "source": [
    "### Set up all data needed\n",
    "\n",
    "Since the data is so big, I recommend that download the data into the current directory that hold this project in order to make this project work:\n",
    "\n",
    "a.) https://dataverse.harvard.edu/file.xhtml?persistentId=doi:10.7910/DVN/42MVDX/MFU99O&version=5.0\n",
    "\n",
    "b.) https://www.kaggle.com/joelwilson/2012-2016-presidential-elections?select=county_facts.csv\n",
    "\n",
    "c.) https://www.kaggle.com/joelwilson/2012-2016-presidential-elections?select=votes.csv\n",
    "\n",
    "d.) https://www2.census.gov/programs-surveys/popest/datasets/2010-2019/counties/asrh/cc-est2019-alldata.csv"
   ]
  },
  {
   "cell_type": "code",
   "execution_count": 87,
   "metadata": {},
   "outputs": [],
   "source": [
    "import pandas as pd\n",
    "import plotly.graph_objects as go # need to install plotly\n",
    "import statistics as st\n",
    "import math as ma\n",
    "from operator import itemgetter\n",
    "\n",
    "# I'm using Anaconda so run admin command prompt -> conda install -c https://conda.anaconda.org/plotly plotly\n",
    "import matplotlib.pyplot as plt\n",
    "import numpy as np\n",
    "from sklearn import datasets, linear_model\n",
    "from sklearn.metrics import classification_report, confusion_matrix, mean_squared_error, r2_score\n",
    "from sklearn.model_selection import train_test_split, cross_val_score, RepeatedKFold, GridSearchCV #knn\n",
    "from sklearn.preprocessing import StandardScaler\n",
    "from sklearn.neighbors import KNeighborsRegressor\n",
    "from sklearn.ensemble import GradientBoostingRegressor"
   ]
  },
  {
   "cell_type": "markdown",
   "metadata": {},
   "source": [
    "### Background\n",
    "\n",
    "We will have an overview about how voting data looks like over the past 10 voting elections - or nearly 40 years. This background analysis can answer what political party each states vote for in last 10 times. Is the state recently a one-sided political party state or can still flip the count to another political party."
   ]
  },
  {
   "cell_type": "code",
   "execution_count": 88,
   "metadata": {},
   "outputs": [],
   "source": [
    "# data reference # https://dataverse.harvard.edu/file.xhtml?persistentId=doi:10.7910/DVN/42MVDX/MFU99O&version=5.0\n",
    "data = pd.read_csv('1976-2016-president.csv') "
   ]
  },
  {
   "cell_type": "code",
   "execution_count": 89,
   "metadata": {
    "scrolled": true
   },
   "outputs": [],
   "source": [
    "def init_state():\n",
    "    all_state = {}\n",
    "    state_abr = {}\n",
    "    for idx in range (len(data)):\n",
    "        state_name = data['state'][idx]\n",
    "        if state_name not in all_state:\n",
    "            all_state[state_name] = \"\"\n",
    "            state_abr[state_name] = data['state_po'][idx]\n",
    "    return all_state, state_abr\n",
    "all_state, state_abr = init_state()"
   ]
  },
  {
   "cell_type": "code",
   "execution_count": 90,
   "metadata": {},
   "outputs": [],
   "source": [
    "def analyze_year(temp_df):\n",
    "    try: \n",
    "        party1 = round(temp_df['candidatevotes'][0]/ temp_df['totalvotes'][0]*100, 2)\n",
    "        party2 = round(temp_df['candidatevotes'][1]/ temp_df['totalvotes'][0]*100, 2)\n",
    "        party3 = round(temp_df['candidatevotes'][2]/ temp_df['totalvotes'][0]*100, 2)\n",
    "    except:\n",
    "        party3 = 0\n",
    "    finally:\n",
    "        retdf = {\"state\": [temp_df['state'][0]],  \n",
    "                 \"state_abbreviation\": [temp_df['state_po'][0]],\n",
    "                 \"year\": [temp_df['year'][0]],\n",
    "                 \"party1\": [temp_df['party'][0]],\n",
    "                 \"per_votes1 (%)\": party1,\n",
    "                 \"party2\": temp_df['party'][1],\n",
    "                 \"per_votes2 (%)\": party2,\n",
    "                 \"party3\": \"Others\",\n",
    "                 \"per_votes3 (%)\": party3,\n",
    "                 \"perdiff\": party1 - party2 } # only the diff \n",
    "    df = pd.DataFrame(data=retdf)\n",
    "    return df"
   ]
  },
  {
   "cell_type": "code",
   "execution_count": 91,
   "metadata": {},
   "outputs": [],
   "source": [
    "tempdf = {\"state\": [\"0\"],  \n",
    "          \"state_abbreviation\": [\"0\"],\n",
    "          \"year\": [0],\n",
    "          \"party1\": [\"0\"],\n",
    "          \"per_votes1 (%)\": [0],\n",
    "          \"party2\": [\"0\"],\n",
    "          \"per_votes2 (%)\": [0],\n",
    "          \"party3\": [\"Others\"],\n",
    "          \"per_votes3 (%)\": [0],\n",
    "          \"perdiff\": [0]\n",
    "         }\n",
    "\n",
    "resultdf = pd.DataFrame(data=tempdf)\n",
    "for state_name in all_state.keys():\n",
    "    for yr in range(1976, 2020, 4):\n",
    "        #print(yr)\n",
    "        sub_df = data[(data.state == state_name) & (data.year == yr)]\n",
    "        sub_df.reset_index(drop=True, inplace=True)\n",
    "        analyzed_df = analyze_year(sub_df)\n",
    "        #print(analyzed_df)\n",
    "        resultdf = pd.concat([resultdf, analyzed_df], join=\"inner\")\n",
    "        all_state[state_name]\n",
    "\n",
    "resultdf = resultdf.iloc[1:]\n",
    "resultdf.reset_index(drop=True, inplace=True)"
   ]
  },
  {
   "cell_type": "code",
   "execution_count": 92,
   "metadata": {},
   "outputs": [],
   "source": [
    "def party_initialize(all_state, diff):\n",
    "    # the dictionary from the beginning\n",
    "    # difference between top 2 party\n",
    "    copy_state = all_state.copy() # make copy and return the copy only\n",
    "    for state_name in all_state.keys():\n",
    "        demo = 0\n",
    "        rep = 0\n",
    "        temp = resultdf[(resultdf.state == state_name)]\n",
    "        temp.reset_index(drop=True, inplace=True)\n",
    "        for i in range(5, 10): # 5 most recent votes\n",
    "            if temp['perdiff'][i] >= diff:\n",
    "                if temp['party1'][i] == \"democrat\":\n",
    "                    demo += 1\n",
    "                else:\n",
    "                    rep += 1\n",
    "        if demo >= 4: # 4 or 5 recents vote are resulted in the same party\n",
    "            copy_state[state_name] = 1 # 1 = democratic\n",
    "        elif rep >=4:\n",
    "            copy_state[state_name] = -1 # -1 = republican\n",
    "        else:\n",
    "            copy_state[state_name] = 0 # undecided\n",
    "    return copy_state\n",
    "\n",
    "all_state1 = party_initialize(all_state, 1)\n",
    "all_state2 = party_initialize(all_state, 10)\n",
    "all_state3 = party_initialize(all_state, 20)"
   ]
  },
  {
   "cell_type": "code",
   "execution_count": 93,
   "metadata": {
    "scrolled": true
   },
   "outputs": [
    {
     "data": {
      "application/vnd.plotly.v1+json": {
       "config": {
        "plotlyServerURL": "https://plot.ly"
       },
       "data": [
        {
         "marker": {
          "color": "red",
          "size": 12
         },
         "mode": "markers",
         "name": "1% different between 2 highest party",
         "type": "scatter",
         "x": [
          "Alabama",
          "Alaska",
          "Arizona",
          "Arkansas",
          "California",
          "Colorado",
          "Connecticut",
          "Delaware",
          "District of Columbia",
          "Florida",
          "Georgia",
          "Hawaii",
          "Idaho",
          "Illinois",
          "Indiana",
          "Iowa",
          "Kansas",
          "Kentucky",
          "Louisiana",
          "Maine",
          "Maryland",
          "Massachusetts",
          "Michigan",
          "Minnesota",
          "Mississippi",
          "Missouri",
          "Montana",
          "Nebraska",
          "Nevada",
          "New Hampshire",
          "New Jersey",
          "New Mexico",
          "New York",
          "North Carolina",
          "North Dakota",
          "Ohio",
          "Oklahoma",
          "Oregon",
          "Pennsylvania",
          "Rhode Island",
          "South Carolina",
          "South Dakota",
          "Tennessee",
          "Texas",
          "Utah",
          "Vermont",
          "Virginia",
          "Washington",
          "West Virginia",
          "Wisconsin",
          "Wyoming"
         ],
         "y": [
          0,
          0,
          0,
          0,
          2,
          1,
          2,
          2,
          2,
          1,
          0,
          2,
          0,
          2,
          0,
          1,
          0,
          0,
          0,
          2,
          2,
          2,
          2,
          1,
          0,
          1,
          0,
          0,
          1,
          2,
          2,
          1,
          2,
          0,
          0,
          1,
          0,
          2,
          2,
          2,
          0,
          0,
          0,
          0,
          0,
          2,
          1,
          2,
          0,
          1,
          0
         ]
        },
        {
         "marker": {
          "color": "green",
          "size": 12
         },
         "mode": "markers",
         "name": "10% different between 2 highest party",
         "type": "scatter",
         "x": [
          "Alabama",
          "Alaska",
          "Arizona",
          "Arkansas",
          "California",
          "Colorado",
          "Connecticut",
          "Delaware",
          "District of Columbia",
          "Florida",
          "Georgia",
          "Hawaii",
          "Idaho",
          "Illinois",
          "Indiana",
          "Iowa",
          "Kansas",
          "Kentucky",
          "Louisiana",
          "Maine",
          "Maryland",
          "Massachusetts",
          "Michigan",
          "Minnesota",
          "Mississippi",
          "Missouri",
          "Montana",
          "Nebraska",
          "Nevada",
          "New Hampshire",
          "New Jersey",
          "New Mexico",
          "New York",
          "North Carolina",
          "North Dakota",
          "Ohio",
          "Oklahoma",
          "Oregon",
          "Pennsylvania",
          "Rhode Island",
          "South Carolina",
          "South Dakota",
          "Tennessee",
          "Texas",
          "Utah",
          "Vermont",
          "Virginia",
          "Washington",
          "West Virginia",
          "Wisconsin",
          "Wyoming"
         ],
         "y": [
          9,
          9,
          10,
          10,
          11,
          10,
          11,
          11,
          11,
          10,
          10,
          11,
          9,
          11,
          10,
          10,
          9,
          9,
          10,
          10,
          11,
          11,
          10,
          10,
          9,
          10,
          10,
          9,
          10,
          10,
          11,
          10,
          11,
          10,
          10,
          10,
          9,
          10,
          10,
          11,
          10,
          10,
          10,
          9,
          9,
          11,
          10,
          10,
          10,
          10,
          9
         ]
        },
        {
         "marker": {
          "color": "blue",
          "size": 12
         },
         "mode": "markers",
         "name": "20% different between 2 highest party",
         "type": "scatter",
         "x": [
          "Alabama",
          "Alaska",
          "Arizona",
          "Arkansas",
          "California",
          "Colorado",
          "Connecticut",
          "Delaware",
          "District of Columbia",
          "Florida",
          "Georgia",
          "Hawaii",
          "Idaho",
          "Illinois",
          "Indiana",
          "Iowa",
          "Kansas",
          "Kentucky",
          "Louisiana",
          "Maine",
          "Maryland",
          "Massachusetts",
          "Michigan",
          "Minnesota",
          "Mississippi",
          "Missouri",
          "Montana",
          "Nebraska",
          "Nevada",
          "New Hampshire",
          "New Jersey",
          "New Mexico",
          "New York",
          "North Carolina",
          "North Dakota",
          "Ohio",
          "Oklahoma",
          "Oregon",
          "Pennsylvania",
          "Rhode Island",
          "South Carolina",
          "South Dakota",
          "Tennessee",
          "Texas",
          "Utah",
          "Vermont",
          "Virginia",
          "Washington",
          "West Virginia",
          "Wisconsin",
          "Wyoming"
         ],
         "y": [
          20,
          20,
          20,
          20,
          20,
          20,
          20,
          20,
          21,
          20,
          20,
          20,
          19,
          20,
          20,
          20,
          20,
          20,
          20,
          20,
          20,
          21,
          20,
          20,
          20,
          20,
          20,
          20,
          20,
          20,
          20,
          20,
          21,
          20,
          20,
          20,
          19,
          20,
          20,
          21,
          20,
          20,
          20,
          20,
          19,
          21,
          20,
          20,
          20,
          20,
          19
         ]
        }
       ],
       "layout": {
        "template": {
         "data": {
          "bar": [
           {
            "error_x": {
             "color": "#2a3f5f"
            },
            "error_y": {
             "color": "#2a3f5f"
            },
            "marker": {
             "line": {
              "color": "#E5ECF6",
              "width": 0.5
             }
            },
            "type": "bar"
           }
          ],
          "barpolar": [
           {
            "marker": {
             "line": {
              "color": "#E5ECF6",
              "width": 0.5
             }
            },
            "type": "barpolar"
           }
          ],
          "carpet": [
           {
            "aaxis": {
             "endlinecolor": "#2a3f5f",
             "gridcolor": "white",
             "linecolor": "white",
             "minorgridcolor": "white",
             "startlinecolor": "#2a3f5f"
            },
            "baxis": {
             "endlinecolor": "#2a3f5f",
             "gridcolor": "white",
             "linecolor": "white",
             "minorgridcolor": "white",
             "startlinecolor": "#2a3f5f"
            },
            "type": "carpet"
           }
          ],
          "choropleth": [
           {
            "colorbar": {
             "outlinewidth": 0,
             "ticks": ""
            },
            "type": "choropleth"
           }
          ],
          "contour": [
           {
            "colorbar": {
             "outlinewidth": 0,
             "ticks": ""
            },
            "colorscale": [
             [
              0,
              "#0d0887"
             ],
             [
              0.1111111111111111,
              "#46039f"
             ],
             [
              0.2222222222222222,
              "#7201a8"
             ],
             [
              0.3333333333333333,
              "#9c179e"
             ],
             [
              0.4444444444444444,
              "#bd3786"
             ],
             [
              0.5555555555555556,
              "#d8576b"
             ],
             [
              0.6666666666666666,
              "#ed7953"
             ],
             [
              0.7777777777777778,
              "#fb9f3a"
             ],
             [
              0.8888888888888888,
              "#fdca26"
             ],
             [
              1,
              "#f0f921"
             ]
            ],
            "type": "contour"
           }
          ],
          "contourcarpet": [
           {
            "colorbar": {
             "outlinewidth": 0,
             "ticks": ""
            },
            "type": "contourcarpet"
           }
          ],
          "heatmap": [
           {
            "colorbar": {
             "outlinewidth": 0,
             "ticks": ""
            },
            "colorscale": [
             [
              0,
              "#0d0887"
             ],
             [
              0.1111111111111111,
              "#46039f"
             ],
             [
              0.2222222222222222,
              "#7201a8"
             ],
             [
              0.3333333333333333,
              "#9c179e"
             ],
             [
              0.4444444444444444,
              "#bd3786"
             ],
             [
              0.5555555555555556,
              "#d8576b"
             ],
             [
              0.6666666666666666,
              "#ed7953"
             ],
             [
              0.7777777777777778,
              "#fb9f3a"
             ],
             [
              0.8888888888888888,
              "#fdca26"
             ],
             [
              1,
              "#f0f921"
             ]
            ],
            "type": "heatmap"
           }
          ],
          "heatmapgl": [
           {
            "colorbar": {
             "outlinewidth": 0,
             "ticks": ""
            },
            "colorscale": [
             [
              0,
              "#0d0887"
             ],
             [
              0.1111111111111111,
              "#46039f"
             ],
             [
              0.2222222222222222,
              "#7201a8"
             ],
             [
              0.3333333333333333,
              "#9c179e"
             ],
             [
              0.4444444444444444,
              "#bd3786"
             ],
             [
              0.5555555555555556,
              "#d8576b"
             ],
             [
              0.6666666666666666,
              "#ed7953"
             ],
             [
              0.7777777777777778,
              "#fb9f3a"
             ],
             [
              0.8888888888888888,
              "#fdca26"
             ],
             [
              1,
              "#f0f921"
             ]
            ],
            "type": "heatmapgl"
           }
          ],
          "histogram": [
           {
            "marker": {
             "colorbar": {
              "outlinewidth": 0,
              "ticks": ""
             }
            },
            "type": "histogram"
           }
          ],
          "histogram2d": [
           {
            "colorbar": {
             "outlinewidth": 0,
             "ticks": ""
            },
            "colorscale": [
             [
              0,
              "#0d0887"
             ],
             [
              0.1111111111111111,
              "#46039f"
             ],
             [
              0.2222222222222222,
              "#7201a8"
             ],
             [
              0.3333333333333333,
              "#9c179e"
             ],
             [
              0.4444444444444444,
              "#bd3786"
             ],
             [
              0.5555555555555556,
              "#d8576b"
             ],
             [
              0.6666666666666666,
              "#ed7953"
             ],
             [
              0.7777777777777778,
              "#fb9f3a"
             ],
             [
              0.8888888888888888,
              "#fdca26"
             ],
             [
              1,
              "#f0f921"
             ]
            ],
            "type": "histogram2d"
           }
          ],
          "histogram2dcontour": [
           {
            "colorbar": {
             "outlinewidth": 0,
             "ticks": ""
            },
            "colorscale": [
             [
              0,
              "#0d0887"
             ],
             [
              0.1111111111111111,
              "#46039f"
             ],
             [
              0.2222222222222222,
              "#7201a8"
             ],
             [
              0.3333333333333333,
              "#9c179e"
             ],
             [
              0.4444444444444444,
              "#bd3786"
             ],
             [
              0.5555555555555556,
              "#d8576b"
             ],
             [
              0.6666666666666666,
              "#ed7953"
             ],
             [
              0.7777777777777778,
              "#fb9f3a"
             ],
             [
              0.8888888888888888,
              "#fdca26"
             ],
             [
              1,
              "#f0f921"
             ]
            ],
            "type": "histogram2dcontour"
           }
          ],
          "mesh3d": [
           {
            "colorbar": {
             "outlinewidth": 0,
             "ticks": ""
            },
            "type": "mesh3d"
           }
          ],
          "parcoords": [
           {
            "line": {
             "colorbar": {
              "outlinewidth": 0,
              "ticks": ""
             }
            },
            "type": "parcoords"
           }
          ],
          "pie": [
           {
            "automargin": true,
            "type": "pie"
           }
          ],
          "scatter": [
           {
            "marker": {
             "colorbar": {
              "outlinewidth": 0,
              "ticks": ""
             }
            },
            "type": "scatter"
           }
          ],
          "scatter3d": [
           {
            "line": {
             "colorbar": {
              "outlinewidth": 0,
              "ticks": ""
             }
            },
            "marker": {
             "colorbar": {
              "outlinewidth": 0,
              "ticks": ""
             }
            },
            "type": "scatter3d"
           }
          ],
          "scattercarpet": [
           {
            "marker": {
             "colorbar": {
              "outlinewidth": 0,
              "ticks": ""
             }
            },
            "type": "scattercarpet"
           }
          ],
          "scattergeo": [
           {
            "marker": {
             "colorbar": {
              "outlinewidth": 0,
              "ticks": ""
             }
            },
            "type": "scattergeo"
           }
          ],
          "scattergl": [
           {
            "marker": {
             "colorbar": {
              "outlinewidth": 0,
              "ticks": ""
             }
            },
            "type": "scattergl"
           }
          ],
          "scattermapbox": [
           {
            "marker": {
             "colorbar": {
              "outlinewidth": 0,
              "ticks": ""
             }
            },
            "type": "scattermapbox"
           }
          ],
          "scatterpolar": [
           {
            "marker": {
             "colorbar": {
              "outlinewidth": 0,
              "ticks": ""
             }
            },
            "type": "scatterpolar"
           }
          ],
          "scatterpolargl": [
           {
            "marker": {
             "colorbar": {
              "outlinewidth": 0,
              "ticks": ""
             }
            },
            "type": "scatterpolargl"
           }
          ],
          "scatterternary": [
           {
            "marker": {
             "colorbar": {
              "outlinewidth": 0,
              "ticks": ""
             }
            },
            "type": "scatterternary"
           }
          ],
          "surface": [
           {
            "colorbar": {
             "outlinewidth": 0,
             "ticks": ""
            },
            "colorscale": [
             [
              0,
              "#0d0887"
             ],
             [
              0.1111111111111111,
              "#46039f"
             ],
             [
              0.2222222222222222,
              "#7201a8"
             ],
             [
              0.3333333333333333,
              "#9c179e"
             ],
             [
              0.4444444444444444,
              "#bd3786"
             ],
             [
              0.5555555555555556,
              "#d8576b"
             ],
             [
              0.6666666666666666,
              "#ed7953"
             ],
             [
              0.7777777777777778,
              "#fb9f3a"
             ],
             [
              0.8888888888888888,
              "#fdca26"
             ],
             [
              1,
              "#f0f921"
             ]
            ],
            "type": "surface"
           }
          ],
          "table": [
           {
            "cells": {
             "fill": {
              "color": "#EBF0F8"
             },
             "line": {
              "color": "white"
             }
            },
            "header": {
             "fill": {
              "color": "#C8D4E3"
             },
             "line": {
              "color": "white"
             }
            },
            "type": "table"
           }
          ]
         },
         "layout": {
          "annotationdefaults": {
           "arrowcolor": "#2a3f5f",
           "arrowhead": 0,
           "arrowwidth": 1
          },
          "coloraxis": {
           "colorbar": {
            "outlinewidth": 0,
            "ticks": ""
           }
          },
          "colorscale": {
           "diverging": [
            [
             0,
             "#8e0152"
            ],
            [
             0.1,
             "#c51b7d"
            ],
            [
             0.2,
             "#de77ae"
            ],
            [
             0.3,
             "#f1b6da"
            ],
            [
             0.4,
             "#fde0ef"
            ],
            [
             0.5,
             "#f7f7f7"
            ],
            [
             0.6,
             "#e6f5d0"
            ],
            [
             0.7,
             "#b8e186"
            ],
            [
             0.8,
             "#7fbc41"
            ],
            [
             0.9,
             "#4d9221"
            ],
            [
             1,
             "#276419"
            ]
           ],
           "sequential": [
            [
             0,
             "#0d0887"
            ],
            [
             0.1111111111111111,
             "#46039f"
            ],
            [
             0.2222222222222222,
             "#7201a8"
            ],
            [
             0.3333333333333333,
             "#9c179e"
            ],
            [
             0.4444444444444444,
             "#bd3786"
            ],
            [
             0.5555555555555556,
             "#d8576b"
            ],
            [
             0.6666666666666666,
             "#ed7953"
            ],
            [
             0.7777777777777778,
             "#fb9f3a"
            ],
            [
             0.8888888888888888,
             "#fdca26"
            ],
            [
             1,
             "#f0f921"
            ]
           ],
           "sequentialminus": [
            [
             0,
             "#0d0887"
            ],
            [
             0.1111111111111111,
             "#46039f"
            ],
            [
             0.2222222222222222,
             "#7201a8"
            ],
            [
             0.3333333333333333,
             "#9c179e"
            ],
            [
             0.4444444444444444,
             "#bd3786"
            ],
            [
             0.5555555555555556,
             "#d8576b"
            ],
            [
             0.6666666666666666,
             "#ed7953"
            ],
            [
             0.7777777777777778,
             "#fb9f3a"
            ],
            [
             0.8888888888888888,
             "#fdca26"
            ],
            [
             1,
             "#f0f921"
            ]
           ]
          },
          "colorway": [
           "#636efa",
           "#EF553B",
           "#00cc96",
           "#ab63fa",
           "#FFA15A",
           "#19d3f3",
           "#FF6692",
           "#B6E880",
           "#FF97FF",
           "#FECB52"
          ],
          "font": {
           "color": "#2a3f5f"
          },
          "geo": {
           "bgcolor": "white",
           "lakecolor": "white",
           "landcolor": "#E5ECF6",
           "showlakes": true,
           "showland": true,
           "subunitcolor": "white"
          },
          "hoverlabel": {
           "align": "left"
          },
          "hovermode": "closest",
          "mapbox": {
           "style": "light"
          },
          "paper_bgcolor": "white",
          "plot_bgcolor": "#E5ECF6",
          "polar": {
           "angularaxis": {
            "gridcolor": "white",
            "linecolor": "white",
            "ticks": ""
           },
           "bgcolor": "#E5ECF6",
           "radialaxis": {
            "gridcolor": "white",
            "linecolor": "white",
            "ticks": ""
           }
          },
          "scene": {
           "xaxis": {
            "backgroundcolor": "#E5ECF6",
            "gridcolor": "white",
            "gridwidth": 2,
            "linecolor": "white",
            "showbackground": true,
            "ticks": "",
            "zerolinecolor": "white"
           },
           "yaxis": {
            "backgroundcolor": "#E5ECF6",
            "gridcolor": "white",
            "gridwidth": 2,
            "linecolor": "white",
            "showbackground": true,
            "ticks": "",
            "zerolinecolor": "white"
           },
           "zaxis": {
            "backgroundcolor": "#E5ECF6",
            "gridcolor": "white",
            "gridwidth": 2,
            "linecolor": "white",
            "showbackground": true,
            "ticks": "",
            "zerolinecolor": "white"
           }
          },
          "shapedefaults": {
           "line": {
            "color": "#2a3f5f"
           }
          },
          "ternary": {
           "aaxis": {
            "gridcolor": "white",
            "linecolor": "white",
            "ticks": ""
           },
           "baxis": {
            "gridcolor": "white",
            "linecolor": "white",
            "ticks": ""
           },
           "bgcolor": "#E5ECF6",
           "caxis": {
            "gridcolor": "white",
            "linecolor": "white",
            "ticks": ""
           }
          },
          "title": {
           "x": 0.05
          },
          "xaxis": {
           "automargin": true,
           "gridcolor": "white",
           "linecolor": "white",
           "ticks": "",
           "title": {
            "standoff": 15
           },
           "zerolinecolor": "white",
           "zerolinewidth": 2
          },
          "yaxis": {
           "automargin": true,
           "gridcolor": "white",
           "linecolor": "white",
           "ticks": "",
           "title": {
            "standoff": 15
           },
           "zerolinecolor": "white",
           "zerolinewidth": 2
          }
         }
        }
       }
      },
      "text/html": [
       "<div>                            <div id=\"18daa90f-ff4d-4019-8331-c05d3f425660\" class=\"plotly-graph-div\" style=\"height:525px; width:100%;\"></div>            <script type=\"text/javascript\">                require([\"plotly\"], function(Plotly) {                    window.PLOTLYENV=window.PLOTLYENV || {};                                    if (document.getElementById(\"18daa90f-ff4d-4019-8331-c05d3f425660\")) {                    Plotly.newPlot(                        \"18daa90f-ff4d-4019-8331-c05d3f425660\",                        [{\"marker\": {\"color\": \"red\", \"size\": 12}, \"mode\": \"markers\", \"name\": \"1% different between 2 highest party\", \"type\": \"scatter\", \"x\": [\"Alabama\", \"Alaska\", \"Arizona\", \"Arkansas\", \"California\", \"Colorado\", \"Connecticut\", \"Delaware\", \"District of Columbia\", \"Florida\", \"Georgia\", \"Hawaii\", \"Idaho\", \"Illinois\", \"Indiana\", \"Iowa\", \"Kansas\", \"Kentucky\", \"Louisiana\", \"Maine\", \"Maryland\", \"Massachusetts\", \"Michigan\", \"Minnesota\", \"Mississippi\", \"Missouri\", \"Montana\", \"Nebraska\", \"Nevada\", \"New Hampshire\", \"New Jersey\", \"New Mexico\", \"New York\", \"North Carolina\", \"North Dakota\", \"Ohio\", \"Oklahoma\", \"Oregon\", \"Pennsylvania\", \"Rhode Island\", \"South Carolina\", \"South Dakota\", \"Tennessee\", \"Texas\", \"Utah\", \"Vermont\", \"Virginia\", \"Washington\", \"West Virginia\", \"Wisconsin\", \"Wyoming\"], \"y\": [0, 0, 0, 0, 2, 1, 2, 2, 2, 1, 0, 2, 0, 2, 0, 1, 0, 0, 0, 2, 2, 2, 2, 1, 0, 1, 0, 0, 1, 2, 2, 1, 2, 0, 0, 1, 0, 2, 2, 2, 0, 0, 0, 0, 0, 2, 1, 2, 0, 1, 0]}, {\"marker\": {\"color\": \"green\", \"size\": 12}, \"mode\": \"markers\", \"name\": \"10% different between 2 highest party\", \"type\": \"scatter\", \"x\": [\"Alabama\", \"Alaska\", \"Arizona\", \"Arkansas\", \"California\", \"Colorado\", \"Connecticut\", \"Delaware\", \"District of Columbia\", \"Florida\", \"Georgia\", \"Hawaii\", \"Idaho\", \"Illinois\", \"Indiana\", \"Iowa\", \"Kansas\", \"Kentucky\", \"Louisiana\", \"Maine\", \"Maryland\", \"Massachusetts\", \"Michigan\", \"Minnesota\", \"Mississippi\", \"Missouri\", \"Montana\", \"Nebraska\", \"Nevada\", \"New Hampshire\", \"New Jersey\", \"New Mexico\", \"New York\", \"North Carolina\", \"North Dakota\", \"Ohio\", \"Oklahoma\", \"Oregon\", \"Pennsylvania\", \"Rhode Island\", \"South Carolina\", \"South Dakota\", \"Tennessee\", \"Texas\", \"Utah\", \"Vermont\", \"Virginia\", \"Washington\", \"West Virginia\", \"Wisconsin\", \"Wyoming\"], \"y\": [9, 9, 10, 10, 11, 10, 11, 11, 11, 10, 10, 11, 9, 11, 10, 10, 9, 9, 10, 10, 11, 11, 10, 10, 9, 10, 10, 9, 10, 10, 11, 10, 11, 10, 10, 10, 9, 10, 10, 11, 10, 10, 10, 9, 9, 11, 10, 10, 10, 10, 9]}, {\"marker\": {\"color\": \"blue\", \"size\": 12}, \"mode\": \"markers\", \"name\": \"20% different between 2 highest party\", \"type\": \"scatter\", \"x\": [\"Alabama\", \"Alaska\", \"Arizona\", \"Arkansas\", \"California\", \"Colorado\", \"Connecticut\", \"Delaware\", \"District of Columbia\", \"Florida\", \"Georgia\", \"Hawaii\", \"Idaho\", \"Illinois\", \"Indiana\", \"Iowa\", \"Kansas\", \"Kentucky\", \"Louisiana\", \"Maine\", \"Maryland\", \"Massachusetts\", \"Michigan\", \"Minnesota\", \"Mississippi\", \"Missouri\", \"Montana\", \"Nebraska\", \"Nevada\", \"New Hampshire\", \"New Jersey\", \"New Mexico\", \"New York\", \"North Carolina\", \"North Dakota\", \"Ohio\", \"Oklahoma\", \"Oregon\", \"Pennsylvania\", \"Rhode Island\", \"South Carolina\", \"South Dakota\", \"Tennessee\", \"Texas\", \"Utah\", \"Vermont\", \"Virginia\", \"Washington\", \"West Virginia\", \"Wisconsin\", \"Wyoming\"], \"y\": [20, 20, 20, 20, 20, 20, 20, 20, 21, 20, 20, 20, 19, 20, 20, 20, 20, 20, 20, 20, 20, 21, 20, 20, 20, 20, 20, 20, 20, 20, 20, 20, 21, 20, 20, 20, 19, 20, 20, 21, 20, 20, 20, 20, 19, 21, 20, 20, 20, 20, 19]}],                        {\"template\": {\"data\": {\"bar\": [{\"error_x\": {\"color\": \"#2a3f5f\"}, \"error_y\": {\"color\": \"#2a3f5f\"}, \"marker\": {\"line\": {\"color\": \"#E5ECF6\", \"width\": 0.5}}, \"type\": \"bar\"}], \"barpolar\": [{\"marker\": {\"line\": {\"color\": \"#E5ECF6\", \"width\": 0.5}}, \"type\": \"barpolar\"}], \"carpet\": [{\"aaxis\": {\"endlinecolor\": \"#2a3f5f\", \"gridcolor\": \"white\", \"linecolor\": \"white\", \"minorgridcolor\": \"white\", \"startlinecolor\": \"#2a3f5f\"}, \"baxis\": {\"endlinecolor\": \"#2a3f5f\", \"gridcolor\": \"white\", \"linecolor\": \"white\", \"minorgridcolor\": \"white\", \"startlinecolor\": \"#2a3f5f\"}, \"type\": \"carpet\"}], \"choropleth\": [{\"colorbar\": {\"outlinewidth\": 0, \"ticks\": \"\"}, \"type\": \"choropleth\"}], \"contour\": [{\"colorbar\": {\"outlinewidth\": 0, \"ticks\": \"\"}, \"colorscale\": [[0.0, \"#0d0887\"], [0.1111111111111111, \"#46039f\"], [0.2222222222222222, \"#7201a8\"], [0.3333333333333333, \"#9c179e\"], [0.4444444444444444, \"#bd3786\"], [0.5555555555555556, \"#d8576b\"], [0.6666666666666666, \"#ed7953\"], [0.7777777777777778, \"#fb9f3a\"], [0.8888888888888888, \"#fdca26\"], [1.0, \"#f0f921\"]], \"type\": \"contour\"}], \"contourcarpet\": [{\"colorbar\": {\"outlinewidth\": 0, \"ticks\": \"\"}, \"type\": \"contourcarpet\"}], \"heatmap\": [{\"colorbar\": {\"outlinewidth\": 0, \"ticks\": \"\"}, \"colorscale\": [[0.0, \"#0d0887\"], [0.1111111111111111, \"#46039f\"], [0.2222222222222222, \"#7201a8\"], [0.3333333333333333, \"#9c179e\"], [0.4444444444444444, \"#bd3786\"], [0.5555555555555556, \"#d8576b\"], [0.6666666666666666, \"#ed7953\"], [0.7777777777777778, \"#fb9f3a\"], [0.8888888888888888, \"#fdca26\"], [1.0, \"#f0f921\"]], \"type\": \"heatmap\"}], \"heatmapgl\": [{\"colorbar\": {\"outlinewidth\": 0, \"ticks\": \"\"}, \"colorscale\": [[0.0, \"#0d0887\"], [0.1111111111111111, \"#46039f\"], [0.2222222222222222, \"#7201a8\"], [0.3333333333333333, \"#9c179e\"], [0.4444444444444444, \"#bd3786\"], [0.5555555555555556, \"#d8576b\"], [0.6666666666666666, \"#ed7953\"], [0.7777777777777778, \"#fb9f3a\"], [0.8888888888888888, \"#fdca26\"], [1.0, \"#f0f921\"]], \"type\": \"heatmapgl\"}], \"histogram\": [{\"marker\": {\"colorbar\": {\"outlinewidth\": 0, \"ticks\": \"\"}}, \"type\": \"histogram\"}], \"histogram2d\": [{\"colorbar\": {\"outlinewidth\": 0, \"ticks\": \"\"}, \"colorscale\": [[0.0, \"#0d0887\"], [0.1111111111111111, \"#46039f\"], [0.2222222222222222, \"#7201a8\"], [0.3333333333333333, \"#9c179e\"], [0.4444444444444444, \"#bd3786\"], [0.5555555555555556, \"#d8576b\"], [0.6666666666666666, \"#ed7953\"], [0.7777777777777778, \"#fb9f3a\"], [0.8888888888888888, \"#fdca26\"], [1.0, \"#f0f921\"]], \"type\": \"histogram2d\"}], \"histogram2dcontour\": [{\"colorbar\": {\"outlinewidth\": 0, \"ticks\": \"\"}, \"colorscale\": [[0.0, \"#0d0887\"], [0.1111111111111111, \"#46039f\"], [0.2222222222222222, \"#7201a8\"], [0.3333333333333333, \"#9c179e\"], [0.4444444444444444, \"#bd3786\"], [0.5555555555555556, \"#d8576b\"], [0.6666666666666666, \"#ed7953\"], [0.7777777777777778, \"#fb9f3a\"], [0.8888888888888888, \"#fdca26\"], [1.0, \"#f0f921\"]], \"type\": \"histogram2dcontour\"}], \"mesh3d\": [{\"colorbar\": {\"outlinewidth\": 0, \"ticks\": \"\"}, \"type\": \"mesh3d\"}], \"parcoords\": [{\"line\": {\"colorbar\": {\"outlinewidth\": 0, \"ticks\": \"\"}}, \"type\": \"parcoords\"}], \"pie\": [{\"automargin\": true, \"type\": \"pie\"}], \"scatter\": [{\"marker\": {\"colorbar\": {\"outlinewidth\": 0, \"ticks\": \"\"}}, \"type\": \"scatter\"}], \"scatter3d\": [{\"line\": {\"colorbar\": {\"outlinewidth\": 0, \"ticks\": \"\"}}, \"marker\": {\"colorbar\": {\"outlinewidth\": 0, \"ticks\": \"\"}}, \"type\": \"scatter3d\"}], \"scattercarpet\": [{\"marker\": {\"colorbar\": {\"outlinewidth\": 0, \"ticks\": \"\"}}, \"type\": \"scattercarpet\"}], \"scattergeo\": [{\"marker\": {\"colorbar\": {\"outlinewidth\": 0, \"ticks\": \"\"}}, \"type\": \"scattergeo\"}], \"scattergl\": [{\"marker\": {\"colorbar\": {\"outlinewidth\": 0, \"ticks\": \"\"}}, \"type\": \"scattergl\"}], \"scattermapbox\": [{\"marker\": {\"colorbar\": {\"outlinewidth\": 0, \"ticks\": \"\"}}, \"type\": \"scattermapbox\"}], \"scatterpolar\": [{\"marker\": {\"colorbar\": {\"outlinewidth\": 0, \"ticks\": \"\"}}, \"type\": \"scatterpolar\"}], \"scatterpolargl\": [{\"marker\": {\"colorbar\": {\"outlinewidth\": 0, \"ticks\": \"\"}}, \"type\": \"scatterpolargl\"}], \"scatterternary\": [{\"marker\": {\"colorbar\": {\"outlinewidth\": 0, \"ticks\": \"\"}}, \"type\": \"scatterternary\"}], \"surface\": [{\"colorbar\": {\"outlinewidth\": 0, \"ticks\": \"\"}, \"colorscale\": [[0.0, \"#0d0887\"], [0.1111111111111111, \"#46039f\"], [0.2222222222222222, \"#7201a8\"], [0.3333333333333333, \"#9c179e\"], [0.4444444444444444, \"#bd3786\"], [0.5555555555555556, \"#d8576b\"], [0.6666666666666666, \"#ed7953\"], [0.7777777777777778, \"#fb9f3a\"], [0.8888888888888888, \"#fdca26\"], [1.0, \"#f0f921\"]], \"type\": \"surface\"}], \"table\": [{\"cells\": {\"fill\": {\"color\": \"#EBF0F8\"}, \"line\": {\"color\": \"white\"}}, \"header\": {\"fill\": {\"color\": \"#C8D4E3\"}, \"line\": {\"color\": \"white\"}}, \"type\": \"table\"}]}, \"layout\": {\"annotationdefaults\": {\"arrowcolor\": \"#2a3f5f\", \"arrowhead\": 0, \"arrowwidth\": 1}, \"coloraxis\": {\"colorbar\": {\"outlinewidth\": 0, \"ticks\": \"\"}}, \"colorscale\": {\"diverging\": [[0, \"#8e0152\"], [0.1, \"#c51b7d\"], [0.2, \"#de77ae\"], [0.3, \"#f1b6da\"], [0.4, \"#fde0ef\"], [0.5, \"#f7f7f7\"], [0.6, \"#e6f5d0\"], [0.7, \"#b8e186\"], [0.8, \"#7fbc41\"], [0.9, \"#4d9221\"], [1, \"#276419\"]], \"sequential\": [[0.0, \"#0d0887\"], [0.1111111111111111, \"#46039f\"], [0.2222222222222222, \"#7201a8\"], [0.3333333333333333, \"#9c179e\"], [0.4444444444444444, \"#bd3786\"], [0.5555555555555556, \"#d8576b\"], [0.6666666666666666, \"#ed7953\"], [0.7777777777777778, \"#fb9f3a\"], [0.8888888888888888, \"#fdca26\"], [1.0, \"#f0f921\"]], \"sequentialminus\": [[0.0, \"#0d0887\"], [0.1111111111111111, \"#46039f\"], [0.2222222222222222, \"#7201a8\"], [0.3333333333333333, \"#9c179e\"], [0.4444444444444444, \"#bd3786\"], [0.5555555555555556, \"#d8576b\"], [0.6666666666666666, \"#ed7953\"], [0.7777777777777778, \"#fb9f3a\"], [0.8888888888888888, \"#fdca26\"], [1.0, \"#f0f921\"]]}, \"colorway\": [\"#636efa\", \"#EF553B\", \"#00cc96\", \"#ab63fa\", \"#FFA15A\", \"#19d3f3\", \"#FF6692\", \"#B6E880\", \"#FF97FF\", \"#FECB52\"], \"font\": {\"color\": \"#2a3f5f\"}, \"geo\": {\"bgcolor\": \"white\", \"lakecolor\": \"white\", \"landcolor\": \"#E5ECF6\", \"showlakes\": true, \"showland\": true, \"subunitcolor\": \"white\"}, \"hoverlabel\": {\"align\": \"left\"}, \"hovermode\": \"closest\", \"mapbox\": {\"style\": \"light\"}, \"paper_bgcolor\": \"white\", \"plot_bgcolor\": \"#E5ECF6\", \"polar\": {\"angularaxis\": {\"gridcolor\": \"white\", \"linecolor\": \"white\", \"ticks\": \"\"}, \"bgcolor\": \"#E5ECF6\", \"radialaxis\": {\"gridcolor\": \"white\", \"linecolor\": \"white\", \"ticks\": \"\"}}, \"scene\": {\"xaxis\": {\"backgroundcolor\": \"#E5ECF6\", \"gridcolor\": \"white\", \"gridwidth\": 2, \"linecolor\": \"white\", \"showbackground\": true, \"ticks\": \"\", \"zerolinecolor\": \"white\"}, \"yaxis\": {\"backgroundcolor\": \"#E5ECF6\", \"gridcolor\": \"white\", \"gridwidth\": 2, \"linecolor\": \"white\", \"showbackground\": true, \"ticks\": \"\", \"zerolinecolor\": \"white\"}, \"zaxis\": {\"backgroundcolor\": \"#E5ECF6\", \"gridcolor\": \"white\", \"gridwidth\": 2, \"linecolor\": \"white\", \"showbackground\": true, \"ticks\": \"\", \"zerolinecolor\": \"white\"}}, \"shapedefaults\": {\"line\": {\"color\": \"#2a3f5f\"}}, \"ternary\": {\"aaxis\": {\"gridcolor\": \"white\", \"linecolor\": \"white\", \"ticks\": \"\"}, \"baxis\": {\"gridcolor\": \"white\", \"linecolor\": \"white\", \"ticks\": \"\"}, \"bgcolor\": \"#E5ECF6\", \"caxis\": {\"gridcolor\": \"white\", \"linecolor\": \"white\", \"ticks\": \"\"}}, \"title\": {\"x\": 0.05}, \"xaxis\": {\"automargin\": true, \"gridcolor\": \"white\", \"linecolor\": \"white\", \"ticks\": \"\", \"title\": {\"standoff\": 15}, \"zerolinecolor\": \"white\", \"zerolinewidth\": 2}, \"yaxis\": {\"automargin\": true, \"gridcolor\": \"white\", \"linecolor\": \"white\", \"ticks\": \"\", \"title\": {\"standoff\": 15}, \"zerolinecolor\": \"white\", \"zerolinewidth\": 2}}}},                        {\"responsive\": true}                    ).then(function(){\n",
       "                            \n",
       "var gd = document.getElementById('18daa90f-ff4d-4019-8331-c05d3f425660');\n",
       "var x = new MutationObserver(function (mutations, observer) {{\n",
       "        var display = window.getComputedStyle(gd).display;\n",
       "        if (!display || display === 'none') {{\n",
       "            console.log([gd, 'removed!']);\n",
       "            Plotly.purge(gd);\n",
       "            observer.disconnect();\n",
       "        }}\n",
       "}});\n",
       "\n",
       "// Listen for the removal of the full notebook cells\n",
       "var notebookContainer = gd.closest('#notebook-container');\n",
       "if (notebookContainer) {{\n",
       "    x.observe(notebookContainer, {childList: true});\n",
       "}}\n",
       "\n",
       "// Listen for the clearing of the current output cell\n",
       "var outputEl = gd.closest('.output');\n",
       "if (outputEl) {{\n",
       "    x.observe(outputEl, {childList: true});\n",
       "}}\n",
       "\n",
       "                        })                };                });            </script>        </div>"
      ]
     },
     "metadata": {},
     "output_type": "display_data"
    }
   ],
   "source": [
    "fig = go.Figure()\n",
    "fig.add_trace(\n",
    "    go.Scatter(\n",
    "    x= [k for k in all_state1.keys()],\n",
    "    y= [v+1 for v in all_state1.values()],\n",
    "    marker=dict(color=\"red\", size=12),\n",
    "    mode=\"markers\",\n",
    "    name=\"1% different between 2 highest party\"\n",
    "))\n",
    "fig.add_trace(\n",
    "    go.Scatter(\n",
    "    x= [k for k in all_state2.keys()],\n",
    "    y= [v+10 for v in all_state2.values()],\n",
    "    marker=dict(color=\"green\", size=12),\n",
    "    mode=\"markers\",\n",
    "    name=\"10% different between 2 highest party\"    \n",
    "))\n",
    "fig.add_trace(\n",
    "    go.Scatter(\n",
    "    x= [k for k in all_state3.keys()],\n",
    "    y= [v+20 for v in all_state3.values()],\n",
    "    marker=dict(color=\"blue\", size=12),\n",
    "    mode=\"markers\",\n",
    "    name=\"20% different between 2 highest party\"\n",
    "))\n",
    "fig.write_image(\"fig1.png\") # check your fig1.png if this doesn't show up, \n",
    "#The plot is interactive, you can click on it to see the name of the state.\n",
    "fig.show()"
   ]
  },
  {
   "cell_type": "code",
   "execution_count": 94,
   "metadata": {},
   "outputs": [],
   "source": [
    "# get the state that is one-sided (at 20% diff every year)\n",
    "democratic_state = []\n",
    "republican_state = []\n",
    "for k in all_state3.keys():\n",
    "    if all_state3[k] == 1:\n",
    "        democratic_state.append(k)\n",
    "    elif all_state3[k] == -1:\n",
    "        republican_state.append(k)"
   ]
  },
  {
   "cell_type": "code",
   "execution_count": 95,
   "metadata": {},
   "outputs": [
    {
     "name": "stdout",
     "output_type": "stream",
     "text": [
      "['District of Columbia', 'Massachusetts', 'New York', 'Rhode Island', 'Vermont']\n"
     ]
    }
   ],
   "source": [
    "print(democratic_state)"
   ]
  },
  {
   "cell_type": "code",
   "execution_count": 96,
   "metadata": {},
   "outputs": [
    {
     "name": "stdout",
     "output_type": "stream",
     "text": [
      "['Idaho', 'Oklahoma', 'Utah', 'Wyoming']\n"
     ]
    }
   ],
   "source": [
    "print(republican_state)"
   ]
  },
  {
   "cell_type": "markdown",
   "metadata": {},
   "source": [
    "As we can see, with 20% difference, there are still states that support a specific party:\n",
    "\n",
    "Democratic: District of Columbia, Massachusetts, New York, Rhode Islands, Vermont\n",
    "\n",
    "Republican: Idaho, Oklahoma, Utah, Wyoming."
   ]
  },
  {
   "cell_type": "markdown",
   "metadata": {},
   "source": [
    "### Building up machine learning models\n",
    "\n",
    "As I mentioned, I will apply Linear Regression Model, KNN Regression Model, Gradient Boosting Regression Model for the analysis. The variables that I will focus on this project is races, more specificially 'White', 'Black', 'Native', 'Asian', 'Hawaiian' in each of the county in the United States."
   ]
  },
  {
   "cell_type": "code",
   "execution_count": 97,
   "metadata": {},
   "outputs": [],
   "source": [
    "# https://www.kaggle.com/joelwilson/2012-2016-presidential-elections?select=county_facts.csv\n",
    "# https://www.kaggle.com/joelwilson/2012-2016-presidential-elections?select=votes.csv\n",
    "countydata = pd.read_csv('county_facts.csv')\n",
    "votedata = pd.read_csv('votes.csv')\n",
    "countydata.head(5)\n",
    "countydata = countydata[countydata.state_abbreviation.notnull()]\n",
    "\n",
    "countydata.reset_index(drop=True, inplace=True)\n",
    "votedata.reset_index(drop=True, inplace=True)\n",
    "\n",
    "countydata.rename(columns = {'RHI125214': 'White', \n",
    "                             'RHI225214': 'Black', \n",
    "                             'RHI325214': 'Native', \n",
    "                             'RHI425214': 'Asian', \n",
    "                             'RHI525214': 'Hawaiian',\n",
    "                             'RHI725214': 'Hispanic'}, inplace = True) \n",
    "votedata.rename(columns = {'RHI325214': 'Native', \n",
    "                           'RHI425214': 'Asian', \n",
    "                           'RHI525214': 'Hawaiian',\n",
    "                           'RHI725214': 'Hispanic',\n",
    "                           'POP010210': 'population_2010'}, inplace = True) \n",
    "votedata.reset_index(drop=True, inplace=True)\n",
    "votedata.insert(2, \"population_2014\", countydata['PST045214'], True) \n",
    "race = ['White', 'Black', 'Native', 'Asian', 'Hawaiian']"
   ]
  },
  {
   "cell_type": "code",
   "execution_count": 98,
   "metadata": {},
   "outputs": [],
   "source": [
    "#list(votedata.columns) \n",
    "#per_point_diff_2016\n",
    "#per_point_diff_2012"
   ]
  },
  {
   "cell_type": "code",
   "execution_count": 99,
   "metadata": {},
   "outputs": [
    {
     "data": {
      "text/html": [
       "<div>\n",
       "<style scoped>\n",
       "    .dataframe tbody tr th:only-of-type {\n",
       "        vertical-align: middle;\n",
       "    }\n",
       "\n",
       "    .dataframe tbody tr th {\n",
       "        vertical-align: top;\n",
       "    }\n",
       "\n",
       "    .dataframe thead th {\n",
       "        text-align: right;\n",
       "    }\n",
       "</style>\n",
       "<table border=\"1\" class=\"dataframe\">\n",
       "  <thead>\n",
       "    <tr style=\"text-align: right;\">\n",
       "      <th></th>\n",
       "      <th>area_name</th>\n",
       "      <th>state_abbreviation</th>\n",
       "      <th>White</th>\n",
       "      <th>Black</th>\n",
       "      <th>Native</th>\n",
       "      <th>Asian</th>\n",
       "      <th>Hawaiian</th>\n",
       "    </tr>\n",
       "  </thead>\n",
       "  <tbody>\n",
       "    <tr>\n",
       "      <th>0</th>\n",
       "      <td>Autauga County</td>\n",
       "      <td>AL</td>\n",
       "      <td>77.9</td>\n",
       "      <td>18.7</td>\n",
       "      <td>0.5</td>\n",
       "      <td>1.1</td>\n",
       "      <td>0.1</td>\n",
       "    </tr>\n",
       "    <tr>\n",
       "      <th>1</th>\n",
       "      <td>Baldwin County</td>\n",
       "      <td>AL</td>\n",
       "      <td>87.1</td>\n",
       "      <td>9.6</td>\n",
       "      <td>0.7</td>\n",
       "      <td>0.9</td>\n",
       "      <td>0.1</td>\n",
       "    </tr>\n",
       "    <tr>\n",
       "      <th>2</th>\n",
       "      <td>Barbour County</td>\n",
       "      <td>AL</td>\n",
       "      <td>50.2</td>\n",
       "      <td>47.6</td>\n",
       "      <td>0.6</td>\n",
       "      <td>0.5</td>\n",
       "      <td>0.2</td>\n",
       "    </tr>\n",
       "    <tr>\n",
       "      <th>3</th>\n",
       "      <td>Bibb County</td>\n",
       "      <td>AL</td>\n",
       "      <td>76.3</td>\n",
       "      <td>22.1</td>\n",
       "      <td>0.4</td>\n",
       "      <td>0.2</td>\n",
       "      <td>0.1</td>\n",
       "    </tr>\n",
       "    <tr>\n",
       "      <th>4</th>\n",
       "      <td>Blount County</td>\n",
       "      <td>AL</td>\n",
       "      <td>96.0</td>\n",
       "      <td>1.8</td>\n",
       "      <td>0.6</td>\n",
       "      <td>0.3</td>\n",
       "      <td>0.1</td>\n",
       "    </tr>\n",
       "  </tbody>\n",
       "</table>\n",
       "</div>"
      ],
      "text/plain": [
       "        area_name state_abbreviation  White  Black  Native  Asian  Hawaiian\n",
       "0  Autauga County                 AL   77.9   18.7     0.5    1.1       0.1\n",
       "1  Baldwin County                 AL   87.1    9.6     0.7    0.9       0.1\n",
       "2  Barbour County                 AL   50.2   47.6     0.6    0.5       0.2\n",
       "3     Bibb County                 AL   76.3   22.1     0.4    0.2       0.1\n",
       "4   Blount County                 AL   96.0    1.8     0.6    0.3       0.1"
      ]
     },
     "execution_count": 99,
     "metadata": {},
     "output_type": "execute_result"
    }
   ],
   "source": [
    "# Asian\n",
    "# RHI125214: White alone, percent, 2014\n",
    "# RHI225214: Black or African American alone, percent, 2014\n",
    "# RHI325214: American Indian and Alaska Native alone, percent, 2014\n",
    "# RHI425214: Asian alone, percent, 2014\n",
    "# RHI525214: Native Hawaiian and Other Pacific Islander alone, percent, 2014\n",
    "# RHI625214: Two or More Races, percent, 2014\n",
    "# RHI725214: Hispanic or Latino, percent, 2014\n",
    "\n",
    "countydata = countydata[['area_name','state_abbreviation','White', 'Black', 'Native', 'Asian', 'Hawaiian']]\n",
    "counties = countydata['area_name'].tolist()\n",
    "countydata.head(5)"
   ]
  },
  {
   "cell_type": "code",
   "execution_count": 100,
   "metadata": {},
   "outputs": [
    {
     "data": {
      "text/html": [
       "<div>\n",
       "<style scoped>\n",
       "    .dataframe tbody tr th:only-of-type {\n",
       "        vertical-align: middle;\n",
       "    }\n",
       "\n",
       "    .dataframe tbody tr th {\n",
       "        vertical-align: top;\n",
       "    }\n",
       "\n",
       "    .dataframe thead th {\n",
       "        text-align: right;\n",
       "    }\n",
       "</style>\n",
       "<table border=\"1\" class=\"dataframe\">\n",
       "  <thead>\n",
       "    <tr style=\"text-align: right;\">\n",
       "      <th></th>\n",
       "      <th>Unnamed: 0</th>\n",
       "      <th>X</th>\n",
       "      <th>population_2014</th>\n",
       "      <th>combined_fips</th>\n",
       "      <th>votes_dem_2016</th>\n",
       "      <th>votes_gop_2016</th>\n",
       "      <th>total_votes_2016</th>\n",
       "      <th>Clinton</th>\n",
       "      <th>Trump</th>\n",
       "      <th>diff_2016</th>\n",
       "      <th>...</th>\n",
       "      <th>AFN120207</th>\n",
       "      <th>BPS030214</th>\n",
       "      <th>LND110210</th>\n",
       "      <th>Density</th>\n",
       "      <th>Clinton_Obama</th>\n",
       "      <th>Trump_Romney</th>\n",
       "      <th>Trump_Prediction</th>\n",
       "      <th>Clinton_Prediction</th>\n",
       "      <th>Trump_Deviation</th>\n",
       "      <th>Clinton_Deviation</th>\n",
       "    </tr>\n",
       "  </thead>\n",
       "  <tbody>\n",
       "    <tr>\n",
       "      <th>0</th>\n",
       "      <td>30</td>\n",
       "      <td>29</td>\n",
       "      <td>55395</td>\n",
       "      <td>1001</td>\n",
       "      <td>5908</td>\n",
       "      <td>18110</td>\n",
       "      <td>24661</td>\n",
       "      <td>0.239569</td>\n",
       "      <td>0.734358</td>\n",
       "      <td>12202</td>\n",
       "      <td>...</td>\n",
       "      <td>88157</td>\n",
       "      <td>131</td>\n",
       "      <td>594.44</td>\n",
       "      <td>91.8</td>\n",
       "      <td>-0.026189</td>\n",
       "      <td>0.008021</td>\n",
       "      <td>0.620859</td>\n",
       "      <td>0.340493</td>\n",
       "      <td>-0.113499</td>\n",
       "      <td>0.100924</td>\n",
       "    </tr>\n",
       "    <tr>\n",
       "      <th>1</th>\n",
       "      <td>31</td>\n",
       "      <td>30</td>\n",
       "      <td>200111</td>\n",
       "      <td>1003</td>\n",
       "      <td>18409</td>\n",
       "      <td>72780</td>\n",
       "      <td>94090</td>\n",
       "      <td>0.195653</td>\n",
       "      <td>0.773515</td>\n",
       "      <td>54371</td>\n",
       "      <td>...</td>\n",
       "      <td>436955</td>\n",
       "      <td>1384</td>\n",
       "      <td>1589.78</td>\n",
       "      <td>114.6</td>\n",
       "      <td>-0.020013</td>\n",
       "      <td>-0.000383</td>\n",
       "      <td>0.586749</td>\n",
       "      <td>0.359502</td>\n",
       "      <td>-0.186766</td>\n",
       "      <td>0.163849</td>\n",
       "    </tr>\n",
       "    <tr>\n",
       "      <th>2</th>\n",
       "      <td>32</td>\n",
       "      <td>31</td>\n",
       "      <td>26887</td>\n",
       "      <td>1005</td>\n",
       "      <td>4848</td>\n",
       "      <td>5431</td>\n",
       "      <td>10390</td>\n",
       "      <td>0.466603</td>\n",
       "      <td>0.522714</td>\n",
       "      <td>583</td>\n",
       "      <td>...</td>\n",
       "      <td>0</td>\n",
       "      <td>8</td>\n",
       "      <td>884.88</td>\n",
       "      <td>31.0</td>\n",
       "      <td>-0.045920</td>\n",
       "      <td>0.039339</td>\n",
       "      <td>0.517832</td>\n",
       "      <td>0.474693</td>\n",
       "      <td>-0.004882</td>\n",
       "      <td>0.008090</td>\n",
       "    </tr>\n",
       "    <tr>\n",
       "      <th>3</th>\n",
       "      <td>33</td>\n",
       "      <td>32</td>\n",
       "      <td>22506</td>\n",
       "      <td>1007</td>\n",
       "      <td>1874</td>\n",
       "      <td>6733</td>\n",
       "      <td>8748</td>\n",
       "      <td>0.214220</td>\n",
       "      <td>0.769662</td>\n",
       "      <td>4859</td>\n",
       "      <td>...</td>\n",
       "      <td>10757</td>\n",
       "      <td>19</td>\n",
       "      <td>622.58</td>\n",
       "      <td>36.8</td>\n",
       "      <td>-0.047965</td>\n",
       "      <td>0.038998</td>\n",
       "      <td>0.692227</td>\n",
       "      <td>0.286031</td>\n",
       "      <td>-0.077434</td>\n",
       "      <td>0.071811</td>\n",
       "    </tr>\n",
       "    <tr>\n",
       "      <th>4</th>\n",
       "      <td>34</td>\n",
       "      <td>33</td>\n",
       "      <td>57719</td>\n",
       "      <td>1009</td>\n",
       "      <td>2150</td>\n",
       "      <td>22808</td>\n",
       "      <td>25384</td>\n",
       "      <td>0.084699</td>\n",
       "      <td>0.898519</td>\n",
       "      <td>20658</td>\n",
       "      <td>...</td>\n",
       "      <td>20941</td>\n",
       "      <td>3</td>\n",
       "      <td>644.78</td>\n",
       "      <td>88.9</td>\n",
       "      <td>-0.038779</td>\n",
       "      <td>0.033590</td>\n",
       "      <td>0.789649</td>\n",
       "      <td>0.177490</td>\n",
       "      <td>-0.108870</td>\n",
       "      <td>0.092791</td>\n",
       "    </tr>\n",
       "    <tr>\n",
       "      <th>...</th>\n",
       "      <td>...</td>\n",
       "      <td>...</td>\n",
       "      <td>...</td>\n",
       "      <td>...</td>\n",
       "      <td>...</td>\n",
       "      <td>...</td>\n",
       "      <td>...</td>\n",
       "      <td>...</td>\n",
       "      <td>...</td>\n",
       "      <td>...</td>\n",
       "      <td>...</td>\n",
       "      <td>...</td>\n",
       "      <td>...</td>\n",
       "      <td>...</td>\n",
       "      <td>...</td>\n",
       "      <td>...</td>\n",
       "      <td>...</td>\n",
       "      <td>...</td>\n",
       "      <td>...</td>\n",
       "      <td>...</td>\n",
       "      <td>...</td>\n",
       "    </tr>\n",
       "    <tr>\n",
       "      <th>3107</th>\n",
       "      <td>3137</td>\n",
       "      <td>3136</td>\n",
       "      <td>115290</td>\n",
       "      <td>56037</td>\n",
       "      <td>3233</td>\n",
       "      <td>12153</td>\n",
       "      <td>16661</td>\n",
       "      <td>0.194046</td>\n",
       "      <td>0.729428</td>\n",
       "      <td>8920</td>\n",
       "      <td>...</td>\n",
       "      <td>150439</td>\n",
       "      <td>227</td>\n",
       "      <td>10426.65</td>\n",
       "      <td>4.2</td>\n",
       "      <td>-0.090909</td>\n",
       "      <td>0.047219</td>\n",
       "      <td>0.665093</td>\n",
       "      <td>0.272789</td>\n",
       "      <td>-0.064335</td>\n",
       "      <td>0.078743</td>\n",
       "    </tr>\n",
       "    <tr>\n",
       "      <th>3108</th>\n",
       "      <td>3138</td>\n",
       "      <td>3137</td>\n",
       "      <td>20540</td>\n",
       "      <td>56039</td>\n",
       "      <td>7313</td>\n",
       "      <td>3920</td>\n",
       "      <td>12176</td>\n",
       "      <td>0.600608</td>\n",
       "      <td>0.321945</td>\n",
       "      <td>3393</td>\n",
       "      <td>...</td>\n",
       "      <td>327363</td>\n",
       "      <td>145</td>\n",
       "      <td>3995.38</td>\n",
       "      <td>5.3</td>\n",
       "      <td>0.053672</td>\n",
       "      <td>-0.105847</td>\n",
       "      <td>0.425316</td>\n",
       "      <td>0.494972</td>\n",
       "      <td>0.103372</td>\n",
       "      <td>-0.105635</td>\n",
       "    </tr>\n",
       "    <tr>\n",
       "      <th>3109</th>\n",
       "      <td>3139</td>\n",
       "      <td>3138</td>\n",
       "      <td>29509</td>\n",
       "      <td>56041</td>\n",
       "      <td>1202</td>\n",
       "      <td>6154</td>\n",
       "      <td>8053</td>\n",
       "      <td>0.149261</td>\n",
       "      <td>0.764187</td>\n",
       "      <td>4952</td>\n",
       "      <td>...</td>\n",
       "      <td>35497</td>\n",
       "      <td>40</td>\n",
       "      <td>2081.26</td>\n",
       "      <td>10.1</td>\n",
       "      <td>-0.043333</td>\n",
       "      <td>-0.018139</td>\n",
       "      <td>0.685461</td>\n",
       "      <td>0.256831</td>\n",
       "      <td>-0.078726</td>\n",
       "      <td>0.107570</td>\n",
       "    </tr>\n",
       "    <tr>\n",
       "      <th>3110</th>\n",
       "      <td>3140</td>\n",
       "      <td>3139</td>\n",
       "      <td>30362</td>\n",
       "      <td>56043</td>\n",
       "      <td>532</td>\n",
       "      <td>2911</td>\n",
       "      <td>3715</td>\n",
       "      <td>0.143203</td>\n",
       "      <td>0.783580</td>\n",
       "      <td>2379</td>\n",
       "      <td>...</td>\n",
       "      <td>10175</td>\n",
       "      <td>4</td>\n",
       "      <td>2238.55</td>\n",
       "      <td>3.8</td>\n",
       "      <td>-0.059814</td>\n",
       "      <td>0.013189</td>\n",
       "      <td>0.632028</td>\n",
       "      <td>0.305111</td>\n",
       "      <td>-0.151552</td>\n",
       "      <td>0.161908</td>\n",
       "    </tr>\n",
       "    <tr>\n",
       "      <th>3111</th>\n",
       "      <td>3141</td>\n",
       "      <td>3140</td>\n",
       "      <td>21398</td>\n",
       "      <td>56045</td>\n",
       "      <td>294</td>\n",
       "      <td>2898</td>\n",
       "      <td>3334</td>\n",
       "      <td>0.088182</td>\n",
       "      <td>0.869226</td>\n",
       "      <td>2604</td>\n",
       "      <td>...</td>\n",
       "      <td>7520</td>\n",
       "      <td>1</td>\n",
       "      <td>2398.09</td>\n",
       "      <td>3.0</td>\n",
       "      <td>-0.038811</td>\n",
       "      <td>0.020294</td>\n",
       "      <td>0.717167</td>\n",
       "      <td>0.226544</td>\n",
       "      <td>-0.152059</td>\n",
       "      <td>0.138361</td>\n",
       "    </tr>\n",
       "  </tbody>\n",
       "</table>\n",
       "<p>3112 rows × 83 columns</p>\n",
       "</div>"
      ],
      "text/plain": [
       "      Unnamed: 0     X  population_2014  combined_fips  votes_dem_2016  \\\n",
       "0             30    29            55395           1001            5908   \n",
       "1             31    30           200111           1003           18409   \n",
       "2             32    31            26887           1005            4848   \n",
       "3             33    32            22506           1007            1874   \n",
       "4             34    33            57719           1009            2150   \n",
       "...          ...   ...              ...            ...             ...   \n",
       "3107        3137  3136           115290          56037            3233   \n",
       "3108        3138  3137            20540          56039            7313   \n",
       "3109        3139  3138            29509          56041            1202   \n",
       "3110        3140  3139            30362          56043             532   \n",
       "3111        3141  3140            21398          56045             294   \n",
       "\n",
       "      votes_gop_2016  total_votes_2016   Clinton     Trump  diff_2016  ...  \\\n",
       "0              18110             24661  0.239569  0.734358      12202  ...   \n",
       "1              72780             94090  0.195653  0.773515      54371  ...   \n",
       "2               5431             10390  0.466603  0.522714        583  ...   \n",
       "3               6733              8748  0.214220  0.769662       4859  ...   \n",
       "4              22808             25384  0.084699  0.898519      20658  ...   \n",
       "...              ...               ...       ...       ...        ...  ...   \n",
       "3107           12153             16661  0.194046  0.729428       8920  ...   \n",
       "3108            3920             12176  0.600608  0.321945       3393  ...   \n",
       "3109            6154              8053  0.149261  0.764187       4952  ...   \n",
       "3110            2911              3715  0.143203  0.783580       2379  ...   \n",
       "3111            2898              3334  0.088182  0.869226       2604  ...   \n",
       "\n",
       "      AFN120207 BPS030214 LND110210  Density  Clinton_Obama  Trump_Romney  \\\n",
       "0         88157       131    594.44     91.8      -0.026189      0.008021   \n",
       "1        436955      1384   1589.78    114.6      -0.020013     -0.000383   \n",
       "2             0         8    884.88     31.0      -0.045920      0.039339   \n",
       "3         10757        19    622.58     36.8      -0.047965      0.038998   \n",
       "4         20941         3    644.78     88.9      -0.038779      0.033590   \n",
       "...         ...       ...       ...      ...            ...           ...   \n",
       "3107     150439       227  10426.65      4.2      -0.090909      0.047219   \n",
       "3108     327363       145   3995.38      5.3       0.053672     -0.105847   \n",
       "3109      35497        40   2081.26     10.1      -0.043333     -0.018139   \n",
       "3110      10175         4   2238.55      3.8      -0.059814      0.013189   \n",
       "3111       7520         1   2398.09      3.0      -0.038811      0.020294   \n",
       "\n",
       "      Trump_Prediction  Clinton_Prediction  Trump_Deviation  Clinton_Deviation  \n",
       "0             0.620859            0.340493        -0.113499           0.100924  \n",
       "1             0.586749            0.359502        -0.186766           0.163849  \n",
       "2             0.517832            0.474693        -0.004882           0.008090  \n",
       "3             0.692227            0.286031        -0.077434           0.071811  \n",
       "4             0.789649            0.177490        -0.108870           0.092791  \n",
       "...                ...                 ...              ...                ...  \n",
       "3107          0.665093            0.272789        -0.064335           0.078743  \n",
       "3108          0.425316            0.494972         0.103372          -0.105635  \n",
       "3109          0.685461            0.256831        -0.078726           0.107570  \n",
       "3110          0.632028            0.305111        -0.151552           0.161908  \n",
       "3111          0.717167            0.226544        -0.152059           0.138361  \n",
       "\n",
       "[3112 rows x 83 columns]"
      ]
     },
     "execution_count": 100,
     "metadata": {},
     "output_type": "execute_result"
    }
   ],
   "source": [
    "votedata"
   ]
  },
  {
   "cell_type": "code",
   "execution_count": 101,
   "metadata": {},
   "outputs": [],
   "source": [
    "#list(votedata.columns) "
   ]
  },
  {
   "cell_type": "code",
   "execution_count": 102,
   "metadata": {},
   "outputs": [
    {
     "name": "stderr",
     "output_type": "stream",
     "text": [
      "<ipython-input-102-fe7fbf58981e>:4: SettingWithCopyWarning:\n",
      "\n",
      "\n",
      "A value is trying to be set on a copy of a slice from a DataFrame.\n",
      "Try using .loc[row_indexer,col_indexer] = value instead\n",
      "\n",
      "See the caveats in the documentation: https://pandas.pydata.org/pandas-docs/stable/user_guide/indexing.html#returning-a-view-versus-a-copy\n",
      "\n"
     ]
    },
    {
     "data": {
      "text/html": [
       "<div>\n",
       "<style scoped>\n",
       "    .dataframe tbody tr th:only-of-type {\n",
       "        vertical-align: middle;\n",
       "    }\n",
       "\n",
       "    .dataframe tbody tr th {\n",
       "        vertical-align: top;\n",
       "    }\n",
       "\n",
       "    .dataframe thead th {\n",
       "        text-align: right;\n",
       "    }\n",
       "</style>\n",
       "<table border=\"1\" class=\"dataframe\">\n",
       "  <thead>\n",
       "    <tr style=\"text-align: right;\">\n",
       "      <th></th>\n",
       "      <th>area_name</th>\n",
       "      <th>state_abbreviation</th>\n",
       "      <th>population_2010</th>\n",
       "      <th>population_2014</th>\n",
       "      <th>total_votes_2012</th>\n",
       "      <th>votes_dem_2012</th>\n",
       "      <th>votes_gop_2012</th>\n",
       "      <th>diff_2012</th>\n",
       "      <th>total_votes_2016</th>\n",
       "      <th>votes_dem_2016</th>\n",
       "      <th>votes_gop_2016</th>\n",
       "      <th>diff_2016</th>\n",
       "      <th>White</th>\n",
       "      <th>Black</th>\n",
       "      <th>Native</th>\n",
       "      <th>Asian</th>\n",
       "      <th>Hawaiian</th>\n",
       "    </tr>\n",
       "  </thead>\n",
       "  <tbody>\n",
       "    <tr>\n",
       "      <th>0</th>\n",
       "      <td>Autauga County</td>\n",
       "      <td>AL</td>\n",
       "      <td>54571</td>\n",
       "      <td>55395</td>\n",
       "      <td>23909</td>\n",
       "      <td>6354</td>\n",
       "      <td>17366</td>\n",
       "      <td>11012</td>\n",
       "      <td>24661</td>\n",
       "      <td>5908</td>\n",
       "      <td>18110</td>\n",
       "      <td>12202</td>\n",
       "      <td>0.779</td>\n",
       "      <td>0.187</td>\n",
       "      <td>0.5</td>\n",
       "      <td>0.011</td>\n",
       "      <td>0.1</td>\n",
       "    </tr>\n",
       "    <tr>\n",
       "      <th>1</th>\n",
       "      <td>Baldwin County</td>\n",
       "      <td>AL</td>\n",
       "      <td>182265</td>\n",
       "      <td>200111</td>\n",
       "      <td>84988</td>\n",
       "      <td>18329</td>\n",
       "      <td>65772</td>\n",
       "      <td>47443</td>\n",
       "      <td>94090</td>\n",
       "      <td>18409</td>\n",
       "      <td>72780</td>\n",
       "      <td>54371</td>\n",
       "      <td>0.871</td>\n",
       "      <td>0.096</td>\n",
       "      <td>0.7</td>\n",
       "      <td>0.009</td>\n",
       "      <td>0.1</td>\n",
       "    </tr>\n",
       "    <tr>\n",
       "      <th>2</th>\n",
       "      <td>Barbour County</td>\n",
       "      <td>AL</td>\n",
       "      <td>27457</td>\n",
       "      <td>26887</td>\n",
       "      <td>11459</td>\n",
       "      <td>5873</td>\n",
       "      <td>5539</td>\n",
       "      <td>334</td>\n",
       "      <td>10390</td>\n",
       "      <td>4848</td>\n",
       "      <td>5431</td>\n",
       "      <td>583</td>\n",
       "      <td>0.502</td>\n",
       "      <td>0.476</td>\n",
       "      <td>0.6</td>\n",
       "      <td>0.005</td>\n",
       "      <td>0.2</td>\n",
       "    </tr>\n",
       "    <tr>\n",
       "      <th>3</th>\n",
       "      <td>Bibb County</td>\n",
       "      <td>AL</td>\n",
       "      <td>22915</td>\n",
       "      <td>22506</td>\n",
       "      <td>8391</td>\n",
       "      <td>2200</td>\n",
       "      <td>6131</td>\n",
       "      <td>3931</td>\n",
       "      <td>8748</td>\n",
       "      <td>1874</td>\n",
       "      <td>6733</td>\n",
       "      <td>4859</td>\n",
       "      <td>0.763</td>\n",
       "      <td>0.221</td>\n",
       "      <td>0.4</td>\n",
       "      <td>0.002</td>\n",
       "      <td>0.1</td>\n",
       "    </tr>\n",
       "    <tr>\n",
       "      <th>4</th>\n",
       "      <td>Blount County</td>\n",
       "      <td>AL</td>\n",
       "      <td>57322</td>\n",
       "      <td>57719</td>\n",
       "      <td>23980</td>\n",
       "      <td>2961</td>\n",
       "      <td>20741</td>\n",
       "      <td>17780</td>\n",
       "      <td>25384</td>\n",
       "      <td>2150</td>\n",
       "      <td>22808</td>\n",
       "      <td>20658</td>\n",
       "      <td>0.960</td>\n",
       "      <td>0.018</td>\n",
       "      <td>0.6</td>\n",
       "      <td>0.003</td>\n",
       "      <td>0.1</td>\n",
       "    </tr>\n",
       "    <tr>\n",
       "      <th>5</th>\n",
       "      <td>Bullock County</td>\n",
       "      <td>AL</td>\n",
       "      <td>10914</td>\n",
       "      <td>10764</td>\n",
       "      <td>5318</td>\n",
       "      <td>4058</td>\n",
       "      <td>1250</td>\n",
       "      <td>2808</td>\n",
       "      <td>4701</td>\n",
       "      <td>3530</td>\n",
       "      <td>1139</td>\n",
       "      <td>2391</td>\n",
       "      <td>0.269</td>\n",
       "      <td>0.701</td>\n",
       "      <td>0.8</td>\n",
       "      <td>0.003</td>\n",
       "      <td>0.7</td>\n",
       "    </tr>\n",
       "    <tr>\n",
       "      <th>6</th>\n",
       "      <td>Butler County</td>\n",
       "      <td>AL</td>\n",
       "      <td>20947</td>\n",
       "      <td>20296</td>\n",
       "      <td>9483</td>\n",
       "      <td>4367</td>\n",
       "      <td>5081</td>\n",
       "      <td>714</td>\n",
       "      <td>8685</td>\n",
       "      <td>3716</td>\n",
       "      <td>4891</td>\n",
       "      <td>1175</td>\n",
       "      <td>0.539</td>\n",
       "      <td>0.440</td>\n",
       "      <td>0.4</td>\n",
       "      <td>0.009</td>\n",
       "      <td>0.0</td>\n",
       "    </tr>\n",
       "    <tr>\n",
       "      <th>7</th>\n",
       "      <td>Calhoun County</td>\n",
       "      <td>AL</td>\n",
       "      <td>118572</td>\n",
       "      <td>115916</td>\n",
       "      <td>46240</td>\n",
       "      <td>15500</td>\n",
       "      <td>30272</td>\n",
       "      <td>14772</td>\n",
       "      <td>47376</td>\n",
       "      <td>13197</td>\n",
       "      <td>32803</td>\n",
       "      <td>19606</td>\n",
       "      <td>0.758</td>\n",
       "      <td>0.211</td>\n",
       "      <td>0.5</td>\n",
       "      <td>0.009</td>\n",
       "      <td>0.1</td>\n",
       "    </tr>\n",
       "    <tr>\n",
       "      <th>8</th>\n",
       "      <td>Chambers County</td>\n",
       "      <td>AL</td>\n",
       "      <td>34215</td>\n",
       "      <td>34076</td>\n",
       "      <td>14562</td>\n",
       "      <td>6853</td>\n",
       "      <td>7596</td>\n",
       "      <td>743</td>\n",
       "      <td>13778</td>\n",
       "      <td>5763</td>\n",
       "      <td>7803</td>\n",
       "      <td>2040</td>\n",
       "      <td>0.583</td>\n",
       "      <td>0.395</td>\n",
       "      <td>0.3</td>\n",
       "      <td>0.008</td>\n",
       "      <td>0.1</td>\n",
       "    </tr>\n",
       "    <tr>\n",
       "      <th>9</th>\n",
       "      <td>Cherokee County</td>\n",
       "      <td>AL</td>\n",
       "      <td>25989</td>\n",
       "      <td>26037</td>\n",
       "      <td>9761</td>\n",
       "      <td>2126</td>\n",
       "      <td>7494</td>\n",
       "      <td>5368</td>\n",
       "      <td>10503</td>\n",
       "      <td>1524</td>\n",
       "      <td>8809</td>\n",
       "      <td>7285</td>\n",
       "      <td>0.930</td>\n",
       "      <td>0.046</td>\n",
       "      <td>0.5</td>\n",
       "      <td>0.003</td>\n",
       "      <td>0.0</td>\n",
       "    </tr>\n",
       "  </tbody>\n",
       "</table>\n",
       "</div>"
      ],
      "text/plain": [
       "         area_name state_abbreviation  population_2010  population_2014  \\\n",
       "0   Autauga County                 AL            54571            55395   \n",
       "1   Baldwin County                 AL           182265           200111   \n",
       "2   Barbour County                 AL            27457            26887   \n",
       "3      Bibb County                 AL            22915            22506   \n",
       "4    Blount County                 AL            57322            57719   \n",
       "5   Bullock County                 AL            10914            10764   \n",
       "6    Butler County                 AL            20947            20296   \n",
       "7   Calhoun County                 AL           118572           115916   \n",
       "8  Chambers County                 AL            34215            34076   \n",
       "9  Cherokee County                 AL            25989            26037   \n",
       "\n",
       "   total_votes_2012  votes_dem_2012  votes_gop_2012  diff_2012  \\\n",
       "0             23909            6354           17366      11012   \n",
       "1             84988           18329           65772      47443   \n",
       "2             11459            5873            5539        334   \n",
       "3              8391            2200            6131       3931   \n",
       "4             23980            2961           20741      17780   \n",
       "5              5318            4058            1250       2808   \n",
       "6              9483            4367            5081        714   \n",
       "7             46240           15500           30272      14772   \n",
       "8             14562            6853            7596        743   \n",
       "9              9761            2126            7494       5368   \n",
       "\n",
       "   total_votes_2016  votes_dem_2016  votes_gop_2016  diff_2016  White  Black  \\\n",
       "0             24661            5908           18110      12202  0.779  0.187   \n",
       "1             94090           18409           72780      54371  0.871  0.096   \n",
       "2             10390            4848            5431        583  0.502  0.476   \n",
       "3              8748            1874            6733       4859  0.763  0.221   \n",
       "4             25384            2150           22808      20658  0.960  0.018   \n",
       "5              4701            3530            1139       2391  0.269  0.701   \n",
       "6              8685            3716            4891       1175  0.539  0.440   \n",
       "7             47376           13197           32803      19606  0.758  0.211   \n",
       "8             13778            5763            7803       2040  0.583  0.395   \n",
       "9             10503            1524            8809       7285  0.930  0.046   \n",
       "\n",
       "   Native  Asian  Hawaiian  \n",
       "0     0.5  0.011       0.1  \n",
       "1     0.7  0.009       0.1  \n",
       "2     0.6  0.005       0.2  \n",
       "3     0.4  0.002       0.1  \n",
       "4     0.6  0.003       0.1  \n",
       "5     0.8  0.003       0.7  \n",
       "6     0.4  0.009       0.0  \n",
       "7     0.5  0.009       0.1  \n",
       "8     0.3  0.008       0.1  \n",
       "9     0.5  0.003       0.0  "
      ]
     },
     "execution_count": 102,
     "metadata": {},
     "output_type": "execute_result"
    }
   ],
   "source": [
    "votedata = votedata[['area_name','state_abbreviation','population_2010', 'population_2014',\n",
    "                     'total_votes_2012', 'votes_dem_2012', 'votes_gop_2012', 'diff_2012', \n",
    "                     'total_votes_2016', 'votes_dem_2016', 'votes_gop_2016', 'diff_2016'] + race]\n",
    "votedata['Asian'] = votedata['Asian'] / 100\n",
    "votedata.head(10)"
   ]
  },
  {
   "cell_type": "code",
   "execution_count": 103,
   "metadata": {},
   "outputs": [
    {
     "name": "stderr",
     "output_type": "stream",
     "text": [
      "<ipython-input-103-38714de2e884>:2: SettingWithCopyWarning:\n",
      "\n",
      "\n",
      "A value is trying to be set on a copy of a slice from a DataFrame.\n",
      "Try using .loc[row_indexer,col_indexer] = value instead\n",
      "\n",
      "See the caveats in the documentation: https://pandas.pydata.org/pandas-docs/stable/user_guide/indexing.html#returning-a-view-versus-a-copy\n",
      "\n",
      "<ipython-input-103-38714de2e884>:4: SettingWithCopyWarning:\n",
      "\n",
      "\n",
      "A value is trying to be set on a copy of a slice from a DataFrame.\n",
      "Try using .loc[row_indexer,col_indexer] = value instead\n",
      "\n",
      "See the caveats in the documentation: https://pandas.pydata.org/pandas-docs/stable/user_guide/indexing.html#returning-a-view-versus-a-copy\n",
      "\n",
      "<ipython-input-103-38714de2e884>:5: SettingWithCopyWarning:\n",
      "\n",
      "\n",
      "A value is trying to be set on a copy of a slice from a DataFrame.\n",
      "Try using .loc[row_indexer,col_indexer] = value instead\n",
      "\n",
      "See the caveats in the documentation: https://pandas.pydata.org/pandas-docs/stable/user_guide/indexing.html#returning-a-view-versus-a-copy\n",
      "\n"
     ]
    }
   ],
   "source": [
    "for r in race:\n",
    "    votedata[r] = round(votedata[r]* (votedata['population_2010'] * 1.07**2))\n",
    "    \n",
    "votedata[\"population_2012\"] = round(votedata[\"population_2010\"] * (1.07)**4)\n",
    "votedata[\"population_2016\"] = round(votedata[\"population_2014\"] * (1.07)**4)"
   ]
  },
  {
   "cell_type": "code",
   "execution_count": 104,
   "metadata": {},
   "outputs": [],
   "source": [
    "votes_2012 = votedata[['area_name', 'state_abbreviation', 'population_2012', \n",
    "                       'diff_2012', 'votes_gop_2012', 'votes_dem_2012'] + race ]\n",
    "votes_2016 = votedata[['area_name', 'state_abbreviation', 'population_2016', \n",
    "                       'diff_2016', 'votes_gop_2016', 'votes_dem_2016'] + race ]\n"
   ]
  },
  {
   "cell_type": "code",
   "execution_count": 105,
   "metadata": {},
   "outputs": [],
   "source": [
    "#set up data for pre model\n",
    "def setup_data2012(inputdf, partyvar, partypred):\n",
    "    np.random.seed(4650)\n",
    "    variable = race + ['diff_2012', partyvar]\n",
    "    x = inputdf[variable].values\n",
    "    y = inputdf[partypred].values\n",
    "    x_train, x_test, y_train, y_test = train_test_split(x, y, test_size=0.20)\n",
    "    return x_train, y_train, x_test, y_test\n",
    "\n",
    "\n",
    "# Linear regression\n",
    "def fit_lr_model(x_train, y_train):\n",
    "    np.random.seed(4650)\n",
    "    model = linear_model.LinearRegression()\n",
    "    model.fit(x_train, y_train)\n",
    "    return model \n",
    "\n",
    "#graph out linear regression for the data\n",
    "def graph_linear_regression(y_pred, y_test):\n",
    "    np.random.seed(4650)\n",
    "    plt.scatter(y_pred, y_test,  color='gray')\n",
    "    m, b = np.polyfit(y_test, y_pred, 1)\n",
    "    plt.plot(y_test, m*y_test + b)\n",
    "    plt.show()\n",
    "\n",
    "    \n",
    "# knn neighbors -> return the k that has the highest test score\n",
    "def get_best_knn_model(x_train, y_train, x_test, y_test):\n",
    "    np.random.seed(4650)\n",
    "    maxTuple = 0\n",
    "    maxId = 0\n",
    "    for k in range(1, 101):\n",
    "        model = KNeighborsRegressor(n_neighbors=k)\n",
    "        model.fit(x_train, y_train)\n",
    "        scores = model.score(x_test, y_test)\n",
    "        if maxTuple < scores: \n",
    "            maxTuple = scores\n",
    "            maxId = k\n",
    "    return (maxId, maxTuple) \n",
    "\n",
    "    \n",
    "# get all the knn values\n",
    "def graph_knn_model(x_train, y_train, x_test, y_test):\n",
    "    np.random.seed(4650)\n",
    "    rmse = []\n",
    "    errorId = 0\n",
    "    minimum = 100000000\n",
    "    for k in range(1, 101):\n",
    "        model = KNeighborsRegressor(n_neighbors= k)\n",
    "        model.fit(x_train, y_train)\n",
    "        pred = model.predict(x_test)  \n",
    "        error = ma.sqrt(mean_squared_error(y_test, pred))\n",
    "        if error < minimum:\n",
    "            errorId = k\n",
    "            minimum = error\n",
    "        rmse.append(error)\n",
    "    \n",
    "    curve = pd.DataFrame(rmse) #elbow curve \n",
    "    print(\"ErrorID \", errorId, \"Minimum \", minimum)\n",
    "    curve.plot()\n",
    "    \n",
    "    \n",
    "# Gradient Boosting Model\n",
    "def fit_gbm_model(x_train, y_train):\n",
    "    np.random.seed(4650)\n",
    "    model = GradientBoostingRegressor(random_state=0)\n",
    "    model.fit(x_train, y_train)\n",
    "    return model"
   ]
  },
  {
   "cell_type": "markdown",
   "metadata": {},
   "source": [
    "### Approaches\n",
    "\n",
    "First of all, I'm going to check on how good those models are, recorded the value and then apply the best model to predict for gop and for dem to the year of 2016. Next, I'm going to compare the actual vote value of 2016 to the predicted one to see how good my model is. Then I will apply the best from those to 2019 data to predict that will the result be like.\n",
    "\n",
    "On how well the model is, we mostly focus on the score given by the model, it will range from 0 - 1.0 in the percentage scaling, so the higher the score, the better the model"
   ]
  },
  {
   "cell_type": "code",
   "execution_count": 106,
   "metadata": {},
   "outputs": [
    {
     "data": {
      "image/png": "[encoded data removed]",
      "text/plain": [
       "<Figure size 432x288 with 1 Axes>"
      ]
     },
     "metadata": {
      "needs_background": "light"
     },
     "output_type": "display_data"
    },
    {
     "name": "stdout",
     "output_type": "stream",
     "text": [
      "176450762.89956635\n",
      "0.9231709895220358\n"
     ]
    }
   ],
   "source": [
    "np.random.seed(4650)\n",
    "x_train, y_train, x_test, y_test = setup_data2012(votes_2012, 'votes_gop_2012', 'votes_dem_2012')\n",
    "lrmodel_dem = fit_lr_model(x_train, y_train)\n",
    "y_pred_dem = lrmodel_dem.predict(x_test)\n",
    "graph_linear_regression(y_pred_dem, y_test)\n",
    "lr_dem2012_score = r2_score(y_test, y_pred_dem)\n",
    "print(mean_squared_error(y_test, y_pred_dem)) # the average squared difference between the estimated values and the actual value.\n",
    "print(lr_dem2012_score)  # evaluate the performance of a linear regression model. "
   ]
  },
  {
   "cell_type": "code",
   "execution_count": 107,
   "metadata": {},
   "outputs": [
    {
     "data": {
      "image/png": "[encoded data removed]",
      "text/plain": [
       "<Figure size 432x288 with 1 Axes>"
      ]
     },
     "metadata": {
      "needs_background": "light"
     },
     "output_type": "display_data"
    },
    {
     "name": "stdout",
     "output_type": "stream",
     "text": [
      "187495515.5182851\n",
      "0.7660456158626969\n"
     ]
    }
   ],
   "source": [
    "np.random.seed(4650)\n",
    "x_train, y_train, x_test, y_test = setup_data2012(votes_2012, 'votes_dem_2012', 'votes_gop_2012')\n",
    "lrmodel_gop = fit_lr_model(x_train, y_train)\n",
    "y_pred_gop = lrmodel_gop.predict(x_test)\n",
    "graph_linear_regression(y_pred_gop, y_test)\n",
    "lr_gop2012_score = r2_score(y_test, y_pred_dem)\n",
    "\n",
    "print(mean_squared_error(y_test, y_pred_gop)) # the average squared difference between the estimated values and the actual value.\n",
    "print(lr_gop2012_score)  # evaluate the performance of a linear regression model. "
   ]
  },
  {
   "cell_type": "code",
   "execution_count": 108,
   "metadata": {},
   "outputs": [
    {
     "name": "stdout",
     "output_type": "stream",
     "text": [
      "9 0.9341534201302327\n",
      "ErrorID  9 Minimum  12297.469708571765\n"
     ]
    },
    {
     "data": {
      "image/png": "[encoded data removed]",
      "text/plain": [
       "<Figure size 432x288 with 1 Axes>"
      ]
     },
     "metadata": {
      "needs_background": "light"
     },
     "output_type": "display_data"
    }
   ],
   "source": [
    "np.random.seed(4650)\n",
    "x_train, y_train, x_test, y_test = setup_data2012(votes_2012, 'votes_gop_2012', 'votes_dem_2012')\n",
    "maxId, knn_dem2012_score = get_best_knn_model(x_train, y_train, x_test, y_test)\n",
    "print (maxId, knn_dem2012_score) \n",
    "graph_knn_model(x_train, y_train, x_test, y_test)"
   ]
  },
  {
   "cell_type": "code",
   "execution_count": 109,
   "metadata": {},
   "outputs": [
    {
     "name": "stdout",
     "output_type": "stream",
     "text": [
      "9 0.7880467848734731\n",
      "ErrorID  9 Minimum  18529.222061920547\n"
     ]
    },
    {
     "data": {
      "image/png": "[encoded data removed]",
      "text/plain": [
       "<Figure size 432x288 with 1 Axes>"
      ]
     },
     "metadata": {
      "needs_background": "light"
     },
     "output_type": "display_data"
    }
   ],
   "source": [
    "np.random.seed(4650)\n",
    "x_train, y_train, x_test, y_test = setup_data2012(votes_2012, 'votes_dem_2012', 'votes_gop_2012')\n",
    "maxId, knn_pop2012_score = get_best_knn_model(x_train, y_train, x_test, y_test)\n",
    "print (maxId, knn_pop2012_score) \n",
    "graph_knn_model(x_train, y_train, x_test, y_test)"
   ]
  },
  {
   "cell_type": "code",
   "execution_count": 110,
   "metadata": {},
   "outputs": [
    {
     "name": "stdout",
     "output_type": "stream",
     "text": [
      "0.8123596417049499\n"
     ]
    }
   ],
   "source": [
    "# evaluate the gbm model\n",
    "np.random.seed(4650)\n",
    "x_train, y_train, x_test, y_test = setup_data2012(votes_2012, 'votes_gop_2012', 'votes_dem_2012')\n",
    "model = fit_gbm_model(x_train, y_train)\n",
    "gbm_dem2012_score = model.score(x_test, y_test)\n",
    "print(gbm_dem2012_score)"
   ]
  },
  {
   "cell_type": "code",
   "execution_count": 111,
   "metadata": {},
   "outputs": [
    {
     "name": "stdout",
     "output_type": "stream",
     "text": [
      "0.9386144021197498\n"
     ]
    }
   ],
   "source": [
    "# evaluate the gbm model\n",
    "np.random.seed(4650)\n",
    "x_train, y_train, x_test, y_test = setup_data2012(votes_2012, 'votes_dem_2012', 'votes_gop_2012')\n",
    "model = fit_gbm_model(x_train, y_train)\n",
    "gbm_pop2012_score = model.score(x_test, y_test)\n",
    "print(gbm_pop2012_score)"
   ]
  },
  {
   "cell_type": "markdown",
   "metadata": {},
   "source": [
    "As we can see that for Democratic, the Linear Regression has the highest score and for Republican, the Gradient Boosting Method has the the highest score"
   ]
  },
  {
   "cell_type": "code",
   "execution_count": 112,
   "metadata": {},
   "outputs": [
    {
     "data": {
      "text/html": [
       "<div>\n",
       "<style scoped>\n",
       "    .dataframe tbody tr th:only-of-type {\n",
       "        vertical-align: middle;\n",
       "    }\n",
       "\n",
       "    .dataframe tbody tr th {\n",
       "        vertical-align: top;\n",
       "    }\n",
       "\n",
       "    .dataframe thead th {\n",
       "        text-align: right;\n",
       "    }\n",
       "</style>\n",
       "<table border=\"1\" class=\"dataframe\">\n",
       "  <thead>\n",
       "    <tr style=\"text-align: right;\">\n",
       "      <th></th>\n",
       "      <th>Model</th>\n",
       "      <th>R2_score Democratic</th>\n",
       "      <th>R2_score Republican</th>\n",
       "    </tr>\n",
       "  </thead>\n",
       "  <tbody>\n",
       "    <tr>\n",
       "      <th>0</th>\n",
       "      <td>Linear Reg2012</td>\n",
       "      <td>92.317099</td>\n",
       "      <td>76.604562</td>\n",
       "    </tr>\n",
       "    <tr>\n",
       "      <th>1</th>\n",
       "      <td>KNN2012</td>\n",
       "      <td>93.415342</td>\n",
       "      <td>78.804678</td>\n",
       "    </tr>\n",
       "    <tr>\n",
       "      <th>2</th>\n",
       "      <td>GBM2012</td>\n",
       "      <td>81.235964</td>\n",
       "      <td>93.861440</td>\n",
       "    </tr>\n",
       "  </tbody>\n",
       "</table>\n",
       "</div>"
      ],
      "text/plain": [
       "            Model  R2_score Democratic  R2_score Republican\n",
       "0  Linear Reg2012            92.317099            76.604562\n",
       "1         KNN2012            93.415342            78.804678\n",
       "2         GBM2012            81.235964            93.861440"
      ]
     },
     "execution_count": 112,
     "metadata": {},
     "output_type": "execute_result"
    }
   ],
   "source": [
    "presidential = {\n",
    "        'Model': [\"Linear Reg2012\", \"KNN2012\", \"GBM2012\"],\n",
    "        'R2_score Democratic': [lr_dem2012_score*100, knn_dem2012_score*100, gbm_dem2012_score*100],\n",
    "        'R2_score Republican': [lr_gop2012_score*100, knn_pop2012_score*100, gbm_pop2012_score*100, ]\n",
    "       }\n",
    "\n",
    "df = pd.DataFrame(presidential, columns = ['Model', 'R2_score Democratic', 'R2_score Republican'])\n",
    "df"
   ]
  },
  {
   "cell_type": "markdown",
   "metadata": {},
   "source": [
    "For Democratic: Apply KNN model from 2012 to the data of 2016 to see how well the data works, then compare it with the model that trains with the actual 2016 data\n",
    "\n",
    "For Republican: Apply GBM model from 2012 to the data of 2016 to see how well the data works, then compare it with the model that trains with the actual 2016 data"
   ]
  },
  {
   "cell_type": "code",
   "execution_count": 113,
   "metadata": {},
   "outputs": [
    {
     "name": "stdout",
     "output_type": "stream",
     "text": [
      "0.7640053902567893 34923.78423991075\n"
     ]
    }
   ],
   "source": [
    "np.random.seed(4650)\n",
    "variable2012 = race + ['diff_2012', 'votes_gop_2012']\n",
    "x_train = votes_2012[variable2012].values\n",
    "y_train = votes_2012['votes_dem_2012'].values\n",
    "\n",
    "variable2016 = race + ['diff_2016', 'votes_gop_2016']\n",
    "x_expect = votes_2016[variable2016].values\n",
    "y_expect = votes_2016['votes_dem_2016'].values\n",
    "\n",
    "knnmodel = KNeighborsRegressor(n_neighbors= 9) # here k is 9 get from above\n",
    "knnmodel.fit(x_train, y_train)\n",
    "ypred = knnmodel.predict(x_expect)\n",
    "\n",
    "apply_dem2016_score = knnmodel.score(x_expect, y_expect)\n",
    "apply_dem2016_mse = ma.sqrt(mean_squared_error(y_expect, ypred))\n",
    "print(apply_dem2016_score, apply_dem2016_mse) # the average squared difference between the estimated values and the actual value, \n",
    "# evaluate the performance of a linear regression model."
   ]
  },
  {
   "cell_type": "code",
   "execution_count": 114,
   "metadata": {},
   "outputs": [
    {
     "name": "stdout",
     "output_type": "stream",
     "text": [
      "0.969348010033226\n"
     ]
    }
   ],
   "source": [
    "# evaluate the gbm model\n",
    "np.random.seed(4650)\n",
    "variable2012 = race + ['diff_2012', 'votes_dem_2012']\n",
    "x_train = votes_2012[variable2012].values\n",
    "y_train = votes_2012['votes_gop_2012'].values\n",
    "\n",
    "variable2016 = race + ['diff_2016', 'votes_dem_2016']\n",
    "x_expect = votes_2016[variable2016].values\n",
    "y_expect = votes_2016['votes_gop_2016'].values\n",
    "\n",
    "gbmmodel = fit_gbm_model(x_train, y_train)\n",
    "gbm_applied_score = gbmmodel.score(x_expect, y_expect)\n",
    "print(gbm_applied_score)"
   ]
  },
  {
   "cell_type": "code",
   "execution_count": 115,
   "metadata": {},
   "outputs": [
    {
     "data": {
      "text/html": [
       "<div>\n",
       "<style scoped>\n",
       "    .dataframe tbody tr th:only-of-type {\n",
       "        vertical-align: middle;\n",
       "    }\n",
       "\n",
       "    .dataframe tbody tr th {\n",
       "        vertical-align: top;\n",
       "    }\n",
       "\n",
       "    .dataframe thead th {\n",
       "        text-align: right;\n",
       "    }\n",
       "</style>\n",
       "<table border=\"1\" class=\"dataframe\">\n",
       "  <thead>\n",
       "    <tr style=\"text-align: right;\">\n",
       "      <th></th>\n",
       "      <th>Model</th>\n",
       "      <th>R2_score Democratic</th>\n",
       "      <th>R2_score Republican</th>\n",
       "    </tr>\n",
       "  </thead>\n",
       "  <tbody>\n",
       "    <tr>\n",
       "      <th>0</th>\n",
       "      <td>Applied KNN 2012</td>\n",
       "      <td>0.764005</td>\n",
       "      <td>0.000000</td>\n",
       "    </tr>\n",
       "    <tr>\n",
       "      <th>1</th>\n",
       "      <td>Applied GBM 2012</td>\n",
       "      <td>0.000000</td>\n",
       "      <td>0.969348</td>\n",
       "    </tr>\n",
       "  </tbody>\n",
       "</table>\n",
       "</div>"
      ],
      "text/plain": [
       "              Model  R2_score Democratic  R2_score Republican\n",
       "0  Applied KNN 2012             0.764005             0.000000\n",
       "1  Applied GBM 2012             0.000000             0.969348"
      ]
     },
     "execution_count": 115,
     "metadata": {},
     "output_type": "execute_result"
    }
   ],
   "source": [
    "applied = {\n",
    "        'Model': [\"Applied KNN 2012\", \"Applied GBM 2012\"],\n",
    "        'R2_score Democratic': [apply_dem2016_score, 0],\n",
    "        'R2_score Republican': [0, gbm_applied_score]\n",
    "       }\n",
    "\n",
    "dfnew = pd.DataFrame(applied, columns = ['Model', 'R2_score Democratic', 'R2_score Republican'])\n",
    "dfnew"
   ]
  },
  {
   "cell_type": "markdown",
   "metadata": {},
   "source": [
    "Since the score for democratic model is pretty low, I decide to pick linear regression model to test with 2016 data ."
   ]
  },
  {
   "cell_type": "code",
   "execution_count": 116,
   "metadata": {},
   "outputs": [
    {
     "data": {
      "image/png": "[encoded data removed]",
      "text/plain": [
       "<Figure size 432x288 with 1 Axes>"
      ]
     },
     "metadata": {
      "needs_background": "light"
     },
     "output_type": "display_data"
    },
    {
     "name": "stdout",
     "output_type": "stream",
     "text": [
      "161511786.01956624\n",
      "0.9687490150132401\n"
     ]
    }
   ],
   "source": [
    "np.random.seed(4650)\n",
    "variable2012 = race + ['diff_2012', 'votes_gop_2012']\n",
    "x_train = votes_2012[variable2012].values\n",
    "y_train = votes_2012['votes_dem_2012'].values\n",
    "\n",
    "variable2016 = race + ['diff_2016', 'votes_gop_2016']\n",
    "x_expect = votes_2016[variable2016].values\n",
    "y_expect = votes_2016['votes_dem_2016'].values\n",
    "\n",
    "lrmodel_dem = fit_lr_model(x_train, y_train)\n",
    "y_pred_dem = lrmodel_dem.predict(x_expect)\n",
    "\n",
    "graph_linear_regression(y_pred_dem, y_expect)\n",
    "lr_dem2012_score = r2_score(y_expect, y_pred_dem)\n",
    "print(mean_squared_error(y_expect, y_pred_dem)) # the average squared difference between the estimated values and the actual value.\n",
    "print(lr_dem2012_score)  # evaluate the performance of a linear regression model. "
   ]
  },
  {
   "cell_type": "markdown",
   "metadata": {},
   "source": [
    "It looks better with 0.9687490150132401 comparing to 0.764005"
   ]
  },
  {
   "cell_type": "code",
   "execution_count": 117,
   "metadata": {
    "scrolled": true
   },
   "outputs": [],
   "source": [
    "#2019 population\n",
    "# https://www2.census.gov/programs-surveys/popest/datasets/2010-2019/counties/asrh/cc-est2019-alldata.csv\n",
    "# data layout to keep track\n",
    "# https://www2.census.gov/programs-surveys/popest/technical-documentation/file-layouts/2010-2019/cc-est2019-alldata.pdf \n",
    "data2019 = pd.read_csv('est2019-alldata.csv', encoding = \"ISO-8859-1\") \n",
    "# We only want the last year in the dataset which is YEAR 10 or 2019 and age group that is old enough to vote which is 5 or more\n",
    "data2019 = data2019[(data2019['YEAR'] == 10) & (data2019['AGEGRP'] >= 5)]\n",
    "data2019.reset_index(drop=True, inplace=True)"
   ]
  },
  {
   "cell_type": "code",
   "execution_count": 118,
   "metadata": {},
   "outputs": [],
   "source": [
    "data2019['area_name'] = data2019['CTYNAME']\n",
    "data2019['White'] = data2019['WA_MALE'] + data2019['WA_FEMALE']\n",
    "data2019['Black'] = data2019['BA_MALE'] + data2019['BA_FEMALE'] \n",
    "data2019['Native'] = data2019['IA_MALE'] + data2019['IA_FEMALE'] \n",
    "data2019['Asian'] = data2019['AA_MALE'] + data2019['AA_FEMALE'] \n",
    "data2019['Hawaiian'] = data2019['NA_MALE'] + data2019['NA_FEMALE'] "
   ]
  },
  {
   "cell_type": "code",
   "execution_count": 119,
   "metadata": {},
   "outputs": [
    {
     "name": "stderr",
     "output_type": "stream",
     "text": [
      "<ipython-input-119-4e87b1589540>:3: FutureWarning:\n",
      "\n",
      "Indexing with multiple keys (implicitly converted to a tuple of keys) will be deprecated, use a list instead.\n",
      "\n"
     ]
    },
    {
     "data": {
      "text/html": [
       "<div>\n",
       "<style scoped>\n",
       "    .dataframe tbody tr th:only-of-type {\n",
       "        vertical-align: middle;\n",
       "    }\n",
       "\n",
       "    .dataframe tbody tr th {\n",
       "        vertical-align: top;\n",
       "    }\n",
       "\n",
       "    .dataframe thead th {\n",
       "        text-align: right;\n",
       "    }\n",
       "</style>\n",
       "<table border=\"1\" class=\"dataframe\">\n",
       "  <thead>\n",
       "    <tr style=\"text-align: right;\">\n",
       "      <th></th>\n",
       "      <th>STNAME</th>\n",
       "      <th>area_name</th>\n",
       "      <th>TOT_POP</th>\n",
       "      <th>White</th>\n",
       "      <th>Black</th>\n",
       "      <th>Native</th>\n",
       "      <th>Asian</th>\n",
       "      <th>Hawaiian</th>\n",
       "      <th>TotalVote</th>\n",
       "    </tr>\n",
       "  </thead>\n",
       "  <tbody>\n",
       "    <tr>\n",
       "      <th>0</th>\n",
       "      <td>Alabama</td>\n",
       "      <td>Autauga County</td>\n",
       "      <td>40881</td>\n",
       "      <td>31922</td>\n",
       "      <td>7770</td>\n",
       "      <td>209</td>\n",
       "      <td>505</td>\n",
       "      <td>35</td>\n",
       "      <td>40441</td>\n",
       "    </tr>\n",
       "    <tr>\n",
       "      <th>1</th>\n",
       "      <td>Alabama</td>\n",
       "      <td>Baldwin County</td>\n",
       "      <td>161850</td>\n",
       "      <td>143530</td>\n",
       "      <td>13701</td>\n",
       "      <td>1250</td>\n",
       "      <td>1532</td>\n",
       "      <td>106</td>\n",
       "      <td>160119</td>\n",
       "    </tr>\n",
       "    <tr>\n",
       "      <th>2</th>\n",
       "      <td>Alabama</td>\n",
       "      <td>Barbour County</td>\n",
       "      <td>19406</td>\n",
       "      <td>9998</td>\n",
       "      <td>8992</td>\n",
       "      <td>123</td>\n",
       "      <td>92</td>\n",
       "      <td>36</td>\n",
       "      <td>19241</td>\n",
       "    </tr>\n",
       "    <tr>\n",
       "      <th>3</th>\n",
       "      <td>Alabama</td>\n",
       "      <td>Bibb County</td>\n",
       "      <td>17439</td>\n",
       "      <td>13336</td>\n",
       "      <td>3856</td>\n",
       "      <td>65</td>\n",
       "      <td>37</td>\n",
       "      <td>22</td>\n",
       "      <td>17316</td>\n",
       "    </tr>\n",
       "    <tr>\n",
       "      <th>4</th>\n",
       "      <td>Alabama</td>\n",
       "      <td>Blount County</td>\n",
       "      <td>43076</td>\n",
       "      <td>41584</td>\n",
       "      <td>650</td>\n",
       "      <td>274</td>\n",
       "      <td>116</td>\n",
       "      <td>46</td>\n",
       "      <td>42670</td>\n",
       "    </tr>\n",
       "  </tbody>\n",
       "</table>\n",
       "</div>"
      ],
      "text/plain": [
       "    STNAME       area_name  TOT_POP   White  Black  Native  Asian  Hawaiian  \\\n",
       "0  Alabama  Autauga County    40881   31922   7770     209    505        35   \n",
       "1  Alabama  Baldwin County   161850  143530  13701    1250   1532       106   \n",
       "2  Alabama  Barbour County    19406    9998   8992     123     92        36   \n",
       "3  Alabama     Bibb County    17439   13336   3856      65     37        22   \n",
       "4  Alabama   Blount County    43076   41584    650     274    116        46   \n",
       "\n",
       "   TotalVote  \n",
       "0      40441  \n",
       "1     160119  \n",
       "2      19241  \n",
       "3      17316  \n",
       "4      42670  "
      ]
     },
     "execution_count": 119,
     "metadata": {},
     "output_type": "execute_result"
    }
   ],
   "source": [
    "countydata2019 = data2019[['STNAME', 'area_name', 'TOT_POP','White', 'Black', 'Native', 'Asian', 'Hawaiian']]\n",
    "countydata2019.reset_index(drop=True, inplace=True)\n",
    "countydata2019 = countydata2019.groupby(['STNAME', 'area_name'])['TOT_POP','White', 'Black', 'Native', 'Asian', 'Hawaiian'].sum().reset_index()\n",
    "countydata2019['TotalVote'] = countydata2019['White'] + countydata2019['Black'] + countydata2019['Native'] + countydata2019['Asian'] + countydata2019['Hawaiian'] \n",
    "countydata2019.head(5)"
   ]
  },
  {
   "cell_type": "code",
   "execution_count": 120,
   "metadata": {},
   "outputs": [
    {
     "name": "stderr",
     "output_type": "stream",
     "text": [
      "<ipython-input-120-f1f00950dfb9>:4: SettingWithCopyWarning:\n",
      "\n",
      "\n",
      "A value is trying to be set on a copy of a slice from a DataFrame\n",
      "\n",
      "See the caveats in the documentation: https://pandas.pydata.org/pandas-docs/stable/user_guide/indexing.html#returning-a-view-versus-a-copy\n",
      "\n",
      "C:\\ProgramData\\Anaconda3\\lib\\site-packages\\pandas\\core\\indexing.py:671: SettingWithCopyWarning:\n",
      "\n",
      "\n",
      "A value is trying to be set on a copy of a slice from a DataFrame\n",
      "\n",
      "See the caveats in the documentation: https://pandas.pydata.org/pandas-docs/stable/user_guide/indexing.html#returning-a-view-versus-a-copy\n",
      "\n",
      "C:\\ProgramData\\Anaconda3\\lib\\site-packages\\IPython\\core\\interactiveshell.py:3343: SettingWithCopyWarning:\n",
      "\n",
      "\n",
      "A value is trying to be set on a copy of a slice from a DataFrame\n",
      "\n",
      "See the caveats in the documentation: https://pandas.pydata.org/pandas-docs/stable/user_guide/indexing.html#returning-a-view-versus-a-copy\n",
      "\n",
      "<ipython-input-120-f1f00950dfb9>:5: SettingWithCopyWarning:\n",
      "\n",
      "\n",
      "A value is trying to be set on a copy of a slice from a DataFrame\n",
      "\n",
      "See the caveats in the documentation: https://pandas.pydata.org/pandas-docs/stable/user_guide/indexing.html#returning-a-view-versus-a-copy\n",
      "\n"
     ]
    }
   ],
   "source": [
    "meandiff = st.mean(votes_2016['diff_2016'] - votes_2012['diff_2012'])\n",
    "meangop = st.mean(votes_2016['votes_gop_2016'] - votes_2012['votes_gop_2012'])\n",
    "for i in range(len(votes_2016), len(countydata2019)):\n",
    "    votes_2016['diff_2016'][i] = meandiff\n",
    "    votes_2016['votes_gop_2016'][i] = meangop"
   ]
  },
  {
   "cell_type": "code",
   "execution_count": 121,
   "metadata": {},
   "outputs": [],
   "source": [
    "#Use the model from Linear Regression 2016\n",
    "np.random.seed(4650)\n",
    "variable2012 = race + ['diff_2012', 'votes_gop_2012']\n",
    "x_train = votes_2012[variable2012].values\n",
    "y_train = votes_2012['votes_dem_2012'].values\n",
    "\n",
    "countydata2019['diff_2016'] = votes_2016['diff_2016'] \n",
    "countydata2019['votes_gop_2016'] = votes_2016['votes_gop_2016'] \n",
    "\n",
    "variable2016 = race + ['diff_2016', 'votes_gop_2016']\n",
    "x_predict2020 = countydata2019[variable2016].values \n",
    "\n",
    "lr_2020model = fit_lr_model(x_train, y_train)\n",
    "y2020_pred_dem = lr_2020model.predict(x_predict2020)"
   ]
  },
  {
   "cell_type": "code",
   "execution_count": 122,
   "metadata": {},
   "outputs": [],
   "source": [
    "np.random.seed(4650)\n",
    "variable2012 = race + ['diff_2012', 'votes_dem_2012']\n",
    "x_train = votes_2012[variable2012].values\n",
    "y_train = votes_2012['votes_gop_2012'].values\n",
    "gbm_2020model = fit_gbm_model(x_train, y_train)\n",
    "\n",
    "variable2016 = race + ['diff_2016', 'votes_gop_2016']\n",
    "x_predict2020 = countydata2019[variable2016].values \n",
    "y2020_pred_gop = gbm_2020model.predict(x_predict2020)"
   ]
  },
  {
   "cell_type": "code",
   "execution_count": 123,
   "metadata": {},
   "outputs": [],
   "source": [
    "def analyze_state(state_df):\n",
    "    rep = 0\n",
    "    dem = 0\n",
    "    na  = 0  # in case there is a county that is undecided.\n",
    "    for i in range(len(state_df)):\n",
    "        if state_df['Won'][i] == \"Republican\":\n",
    "            rep += 1\n",
    "        elif state_df['Won'][i] == 'Democratic':\n",
    "            dem += 1\n",
    "        else:\n",
    "            na += 1\n",
    "    if dem > rep:\n",
    "        return 1\n",
    "    else:\n",
    "        return -1"
   ]
  },
  {
   "cell_type": "markdown",
   "metadata": {},
   "source": [
    "Let's do some comparision on how the actual data from 2016 comparing to our prediting data from 2019 to see how well the models work and have some comments on the prediction"
   ]
  },
  {
   "cell_type": "code",
   "execution_count": 124,
   "metadata": {},
   "outputs": [],
   "source": [
    "voteData = {\n",
    "        'State': votedata['state_abbreviation'].values,\n",
    "        'Democratic': ( votedata['votes_dem_2016'].values ),\n",
    "        'Republican': ( votedata['votes_gop_2016'].values ),\n",
    "       }\n",
    "\n",
    "final2016_data = pd.DataFrame(voteData, columns = ['State','Democratic', 'Republican'])\n",
    "\n",
    "temp = []\n",
    "for r in range(len(final2016_data)):\n",
    "    dem_val = final2016_data['Democratic'][r]\n",
    "    rep_val = final2016_data['Republican'][r] \n",
    "    if dem_val > rep_val:\n",
    "        temp.append('Democratic')\n",
    "    elif dem_val < rep_val:\n",
    "        temp.append('Republican')\n",
    "    else:\n",
    "        temp.append('Undecided')\n",
    "        na += 1\n",
    "        \n",
    "final2016_data['Won'] = temp"
   ]
  },
  {
   "cell_type": "code",
   "execution_count": 125,
   "metadata": {},
   "outputs": [],
   "source": [
    "dem2016 = 0\n",
    "rep2016 = 0\n",
    "for k in state_abr.keys():\n",
    "    state_df = final2016_data[final2016_data['State'] == state_abr[k]]\n",
    "    state_df.reset_index(drop=True, inplace=True)\n",
    "    value = analyze_state(state_df)\n",
    "    if value == 1:\n",
    "        dem2016 += 1\n",
    "    else:\n",
    "        rep2016 += 1\n",
    "  "
   ]
  },
  {
   "cell_type": "code",
   "execution_count": 126,
   "metadata": {},
   "outputs": [],
   "source": [
    "voteData = {\n",
    "        'State': countydata2019['STNAME'].values,\n",
    "        'Democratic predicted': ( np.round(y2020_pred_dem) ),\n",
    "        'Republican predicted': ( np.round(y2020_pred_gop) ),\n",
    "       }\n",
    "\n",
    "final_data = pd.DataFrame(voteData, columns = ['State','Democratic predicted', 'Republican predicted'])\n",
    "\n",
    "temp = []\n",
    "for r in range(len(final_data)):\n",
    "    dem_val = final_data['Democratic predicted'][r]\n",
    "    rep_val = final_data['Republican predicted'][r] \n",
    "    if dem_val > rep_val:\n",
    "        temp.append('Democratic')\n",
    "    elif dem_val < rep_val:\n",
    "        temp.append('Republican')\n",
    "    else:\n",
    "        temp.append('Undecided')\n",
    "        na += 1\n",
    "final_data['Won'] = temp"
   ]
  },
  {
   "cell_type": "code",
   "execution_count": 127,
   "metadata": {},
   "outputs": [],
   "source": [
    "#Look into 2019 data"
   ]
  },
  {
   "cell_type": "code",
   "execution_count": 128,
   "metadata": {},
   "outputs": [],
   "source": [
    "dem2019 = 0\n",
    "rep2019 = 0\n",
    "for k in all_state.keys():\n",
    "    state_df = final_data[final_data['State'] == k]\n",
    "    state_df.reset_index(drop=True, inplace=True)\n",
    "    value = analyze_state(state_df)\n",
    "    if value == 1:\n",
    "        dem2019 += 1\n",
    "    else:\n",
    "        rep2019 += 1"
   ]
  },
  {
   "cell_type": "code",
   "execution_count": 129,
   "metadata": {},
   "outputs": [
    {
     "data": {
      "text/plain": [
       "Text(0.5, 1.0, 'Party')"
      ]
     },
     "execution_count": 129,
     "metadata": {},
     "output_type": "execute_result"
    },
    {
     "data": {
      "image/png": "[encoded data removed]",
      "text/plain": [
       "<Figure size 432x288 with 1 Axes>"
      ]
     },
     "metadata": {
      "needs_background": "light"
     },
     "output_type": "display_data"
    }
   ],
   "source": [
    "votes = [dem2016, rep2016, dem2019, rep2019]\n",
    "names = ['Dem 2016', 'Rep 2016', 'Dem 2019', 'Rep 2019']\n",
    "\n",
    "plt.bar(names, votes)\n",
    "plt.title('Party')"
   ]
  },
  {
   "cell_type": "markdown",
   "metadata": {},
   "source": [
    "Conclusion: It looks like there wil be a slightly move up on the number of Democratic party vote, however, the amount of Republican party vote is a lot so the predicted winner should be Republican side, which is Donald Trump."
   ]
  },
  {
   "cell_type": "markdown",
   "metadata": {},
   "source": [
    "### Take away from the project\n",
    "\n",
    "Although we have really high points on the accuracy of the model, there are still many other variables that can affect to the results like poverty coverage, political movement, real - life debates. It will be more correct if I'm provided with those data."
   ]
  }
 ],
 "metadata": {
  "kernelspec": {
   "display_name": "Python 3",
   "language": "python",
   "name": "python3"
  },
  "language_info": {
   "codemirror_mode": {
    "name": "ipython",
    "version": 3
   },
   "file_extension": ".py",
   "mimetype": "text/x-python",
   "name": "python",
   "nbconvert_exporter": "python",
   "pygments_lexer": "ipython3",
   "version": "3.8.3"
  }
 },
 "nbformat": 4,
 "nbformat_minor": 4
}
